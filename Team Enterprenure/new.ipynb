{
 "cells": [
  {
   "cell_type": "code",
   "execution_count": 33,
   "metadata": {},
   "outputs": [],
   "source": [
    "import pandas as pd\n",
    "import numpy as np\n",
    "import matplotlib.pyplot as plt\n",
    "import seaborn as sns"
   ]
  },
  {
   "cell_type": "code",
   "execution_count": 34,
   "metadata": {},
   "outputs": [],
   "source": [
    "df = pd.read_csv('waste.csv')"
   ]
  },
  {
   "cell_type": "code",
   "execution_count": 35,
   "metadata": {},
   "outputs": [],
   "source": [
    "df = pd.read_csv('waste.csv')"
   ]
  },
  {
   "cell_type": "code",
   "execution_count": 36,
   "metadata": {},
   "outputs": [
    {
     "data": {
      "text/plain": [
       "(6238, 14)"
      ]
     },
     "execution_count": 36,
     "metadata": {},
     "output_type": "execute_result"
    }
   ],
   "source": [
    "df.shape"
   ]
  },
  {
   "cell_type": "code",
   "execution_count": 37,
   "metadata": {},
   "outputs": [
    {
     "name": "stdout",
     "output_type": "stream",
     "text": [
      "Number of Rows       =  6238\n",
      "Number of Columns    =  14\n"
     ]
    }
   ],
   "source": [
    "rows, cols = df.shape\n",
    "print(\"Number of Rows       = \", rows)\n",
    "print(\"Number of Columns    = \", cols)"
   ]
  },
  {
   "cell_type": "code",
   "execution_count": 38,
   "metadata": {},
   "outputs": [
    {
     "name": "stdout",
     "output_type": "stream",
     "text": [
      "<class 'pandas.core.frame.DataFrame'>\n",
      "RangeIndex: 6238 entries, 0 to 6237\n",
      "Data columns (total 14 columns):\n",
      " #   Column            Non-Null Count  Dtype  \n",
      "---  ------            --------------  -----  \n",
      " 0   Domain Code       6238 non-null   object \n",
      " 1   Domain            6238 non-null   object \n",
      " 2   Area Code (ISO3)  6238 non-null   object \n",
      " 3   Area              6238 non-null   object \n",
      " 4   Element Code      6238 non-null   int64  \n",
      " 5   Element           6238 non-null   object \n",
      " 6   Item Code         6238 non-null   int64  \n",
      " 7   Item              6238 non-null   object \n",
      " 8   Year Code         6238 non-null   int64  \n",
      " 9   Year              6238 non-null   int64  \n",
      " 10  Unit              6238 non-null   object \n",
      " 11  Value             6238 non-null   float64\n",
      " 12  Flag              6238 non-null   object \n",
      " 13  Flag Description  6238 non-null   object \n",
      "dtypes: float64(1), int64(4), object(9)\n",
      "memory usage: 682.4+ KB\n"
     ]
    }
   ],
   "source": [
    "df.info()"
   ]
  },
  {
   "cell_type": "code",
   "execution_count": 39,
   "metadata": {},
   "outputs": [
    {
     "data": {
      "text/plain": [
       "Domain Code         0\n",
       "Domain              0\n",
       "Area Code (ISO3)    0\n",
       "Area                0\n",
       "Element Code        0\n",
       "Element             0\n",
       "Item Code           0\n",
       "Item                0\n",
       "Year Code           0\n",
       "Year                0\n",
       "Unit                0\n",
       "Value               0\n",
       "Flag                0\n",
       "Flag Description    0\n",
       "dtype: int64"
      ]
     },
     "execution_count": 39,
     "metadata": {},
     "output_type": "execute_result"
    }
   ],
   "source": [
    "df.isnull().sum()"
   ]
  },
  {
   "cell_type": "code",
   "execution_count": 40,
   "metadata": {},
   "outputs": [
    {
     "data": {
      "text/html": [
       "<div>\n",
       "<style scoped>\n",
       "    .dataframe tbody tr th:only-of-type {\n",
       "        vertical-align: middle;\n",
       "    }\n",
       "\n",
       "    .dataframe tbody tr th {\n",
       "        vertical-align: top;\n",
       "    }\n",
       "\n",
       "    .dataframe thead th {\n",
       "        text-align: right;\n",
       "    }\n",
       "</style>\n",
       "<table border=\"1\" class=\"dataframe\">\n",
       "  <thead>\n",
       "    <tr style=\"text-align: right;\">\n",
       "      <th></th>\n",
       "      <th>Element Code</th>\n",
       "      <th>Item Code</th>\n",
       "      <th>Year Code</th>\n",
       "      <th>Year</th>\n",
       "      <th>Value</th>\n",
       "    </tr>\n",
       "  </thead>\n",
       "  <tbody>\n",
       "    <tr>\n",
       "      <th>count</th>\n",
       "      <td>6238.0</td>\n",
       "      <td>6238.0</td>\n",
       "      <td>6238.000000</td>\n",
       "      <td>6238.000000</td>\n",
       "      <td>6238.000000</td>\n",
       "    </tr>\n",
       "    <tr>\n",
       "      <th>mean</th>\n",
       "      <td>7273.0</td>\n",
       "      <td>6990.0</td>\n",
       "      <td>2004.677300</td>\n",
       "      <td>2004.677300</td>\n",
       "      <td>202.675467</td>\n",
       "    </tr>\n",
       "    <tr>\n",
       "      <th>std</th>\n",
       "      <td>0.0</td>\n",
       "      <td>0.0</td>\n",
       "      <td>8.603289</td>\n",
       "      <td>8.603289</td>\n",
       "      <td>1066.676986</td>\n",
       "    </tr>\n",
       "    <tr>\n",
       "      <th>min</th>\n",
       "      <td>7273.0</td>\n",
       "      <td>6990.0</td>\n",
       "      <td>1990.000000</td>\n",
       "      <td>1990.000000</td>\n",
       "      <td>0.000000</td>\n",
       "    </tr>\n",
       "    <tr>\n",
       "      <th>25%</th>\n",
       "      <td>7273.0</td>\n",
       "      <td>6990.0</td>\n",
       "      <td>1997.000000</td>\n",
       "      <td>1997.000000</td>\n",
       "      <td>0.000000</td>\n",
       "    </tr>\n",
       "    <tr>\n",
       "      <th>50%</th>\n",
       "      <td>7273.0</td>\n",
       "      <td>6990.0</td>\n",
       "      <td>2005.000000</td>\n",
       "      <td>2005.000000</td>\n",
       "      <td>0.652579</td>\n",
       "    </tr>\n",
       "    <tr>\n",
       "      <th>75%</th>\n",
       "      <td>7273.0</td>\n",
       "      <td>6990.0</td>\n",
       "      <td>2012.000000</td>\n",
       "      <td>2012.000000</td>\n",
       "      <td>30.517272</td>\n",
       "    </tr>\n",
       "    <tr>\n",
       "      <th>max</th>\n",
       "      <td>7273.0</td>\n",
       "      <td>6990.0</td>\n",
       "      <td>2019.000000</td>\n",
       "      <td>2019.000000</td>\n",
       "      <td>11151.696410</td>\n",
       "    </tr>\n",
       "  </tbody>\n",
       "</table>\n",
       "</div>"
      ],
      "text/plain": [
       "       Element Code  Item Code    Year Code         Year         Value\n",
       "count        6238.0     6238.0  6238.000000  6238.000000   6238.000000\n",
       "mean         7273.0     6990.0  2004.677300  2004.677300    202.675467\n",
       "std             0.0        0.0     8.603289     8.603289   1066.676986\n",
       "min          7273.0     6990.0  1990.000000  1990.000000      0.000000\n",
       "25%          7273.0     6990.0  1997.000000  1997.000000      0.000000\n",
       "50%          7273.0     6990.0  2005.000000  2005.000000      0.652579\n",
       "75%          7273.0     6990.0  2012.000000  2012.000000     30.517272\n",
       "max          7273.0     6990.0  2019.000000  2019.000000  11151.696410"
      ]
     },
     "execution_count": 40,
     "metadata": {},
     "output_type": "execute_result"
    }
   ],
   "source": [
    "df.describe()"
   ]
  },
  {
   "cell_type": "code",
   "execution_count": 41,
   "metadata": {},
   "outputs": [
    {
     "name": "stdout",
     "output_type": "stream",
     "text": [
      "Shape of Dataset after dropping the duplicates (6238, 14)\n"
     ]
    }
   ],
   "source": [
    "df.drop_duplicates(inplace=True)\n",
    "print('Shape of Dataset after dropping the duplicates', df.shape)"
   ]
  },
  {
   "cell_type": "code",
   "execution_count": 42,
   "metadata": {},
   "outputs": [
    {
     "data": {
      "text/plain": [
       "skew         8.415818\n",
       "kurtosis    75.170198\n",
       "Name: Value, dtype: float64"
      ]
     },
     "execution_count": 42,
     "metadata": {},
     "output_type": "execute_result"
    }
   ],
   "source": [
    "df['Value'].agg(['skew', 'kurtosis']).transpose()\n"
   ]
  },
  {
   "cell_type": "code",
   "execution_count": 43,
   "metadata": {},
   "outputs": [
    {
     "name": "stderr",
     "output_type": "stream",
     "text": [
      "c:\\Users\\Dell\\miniconda3\\envs\\pandas_env\\lib\\site-packages\\seaborn\\_decorators.py:36: FutureWarning: Pass the following variable as a keyword arg: x. From version 0.12, the only valid positional argument will be `data`, and passing other arguments without an explicit keyword will result in an error or misinterpretation.\n",
      "  warnings.warn(\n"
     ]
    },
    {
     "data": {
      "text/plain": [
       "<AxesSubplot:xlabel='Value'>"
      ]
     },
     "execution_count": 43,
     "metadata": {},
     "output_type": "execute_result"
    },
    {
     "data": {
      "image/png": "[encoded data removed]",
      "text/plain": [
       "<Figure size 432x288 with 1 Axes>"
      ]
     },
     "metadata": {
      "needs_background": "light"
     },
     "output_type": "display_data"
    }
   ],
   "source": [
    "sns.boxplot(df['Value'], color=\"red\")"
   ]
  },
  {
   "cell_type": "code",
   "execution_count": 44,
   "metadata": {},
   "outputs": [
    {
     "data": {
      "text/plain": [
       "(array([ 0,  1,  2,  3,  4,  5,  6,  7,  8,  9, 10, 11, 12, 13, 14, 15, 16,\n",
       "        17, 18, 19, 20, 21, 22, 23, 24, 25, 26, 27, 28, 29]),\n",
       " [Text(0, 0, 'China'),\n",
       "  Text(1, 0, 'China, mainland'),\n",
       "  Text(2, 0, 'Japan'),\n",
       "  Text(3, 0, 'Indonesia'),\n",
       "  Text(4, 0, 'United States of America'),\n",
       "  Text(5, 0, 'Germany'),\n",
       "  Text(6, 0, 'France'),\n",
       "  Text(7, 0, 'United Kingdom of Great Britain and Northern Ireland'),\n",
       "  Text(8, 0, 'Republic of Korea'),\n",
       "  Text(9, 0, 'India'),\n",
       "  Text(10, 0, 'Italy'),\n",
       "  Text(11, 0, 'Netherlands'),\n",
       "  Text(12, 0, 'China, Hong Kong SAR'),\n",
       "  Text(13, 0, 'Dominican Republic'),\n",
       "  Text(14, 0, 'Malaysia'),\n",
       "  Text(15, 0, 'Haiti'),\n",
       "  Text(16, 0, 'Cuba'),\n",
       "  Text(17, 0, 'Philippines'),\n",
       "  Text(18, 0, 'Viet Nam'),\n",
       "  Text(19, 0, 'Switzerland'),\n",
       "  Text(20, 0, 'Spain'),\n",
       "  Text(21, 0, 'Jamaica'),\n",
       "  Text(22, 0, 'Poland'),\n",
       "  Text(23, 0, 'Austria'),\n",
       "  Text(24, 0, 'Greece'),\n",
       "  Text(25, 0, 'Australia'),\n",
       "  Text(26, 0, 'Mongolia'),\n",
       "  Text(27, 0, 'Portugal'),\n",
       "  Text(28, 0, 'Sweden'),\n",
       "  Text(29, 0, 'Myanmar')])"
      ]
     },
     "execution_count": 44,
     "metadata": {},
     "output_type": "execute_result"
    },
    {
     "data": {
      "image/png": "[encoded data removed]",
      "text/plain": [
       "<Figure size 750x450 with 1 Axes>"
      ]
     },
     "metadata": {
      "needs_background": "light"
     },
     "output_type": "display_data"
    }
   ],
   "source": [
    "a = df.groupby([\"Area\"]).sum().sort_values(\n",
    "    by=[\"Value\"], ascending=False).head(30)\n",
    "a\n",
    "\n",
    "plt.figure(figsize=(5, 3), dpi=150, linewidth=2)\n",
    "sns.barplot(x=a.index, y='Value', data=a)\n",
    "plt.xticks(rotation=90)"
   ]
  },
  {
   "cell_type": "code",
   "execution_count": 49,
   "metadata": {},
   "outputs": [
    {
     "ename": "KeyError",
     "evalue": "\"Invalid Country Name: 'Belgium-Luxembourg'\"",
     "output_type": "error",
     "traceback": [
      "\u001b[1;31m---------------------------------------------------------------------------\u001b[0m",
      "\u001b[1;31mKeyError\u001b[0m                                  Traceback (most recent call last)",
      "\u001b[1;32mc:\\Users\\Dell\\Desktop\\Team Enterprenure\\new.ipynb Cell 13\u001b[0m in \u001b[0;36m<cell line: 15>\u001b[1;34m()\u001b[0m\n\u001b[0;32m     <a href='vscode-notebook-cell:/c%3A/Users/Dell/Desktop/Team%20Enterprenure/new.ipynb#W2sZmlsZQ%3D%3D?line=68'>69</a>\u001b[0m        continent\u001b[39m.\u001b[39mappend(\u001b[39m'\u001b[39m\u001b[39mSouth America\u001b[39m\u001b[39m'\u001b[39m)\n\u001b[0;32m     <a href='vscode-notebook-cell:/c%3A/Users/Dell/Desktop/Team%20Enterprenure/new.ipynb#W2sZmlsZQ%3D%3D?line=69'>70</a>\u001b[0m    \u001b[39melse\u001b[39;00m:\n\u001b[1;32m---> <a href='vscode-notebook-cell:/c%3A/Users/Dell/Desktop/Team%20Enterprenure/new.ipynb#W2sZmlsZQ%3D%3D?line=70'>71</a>\u001b[0m       continent\u001b[39m.\u001b[39mappend(country_to_continent(i))\n\u001b[0;32m     <a href='vscode-notebook-cell:/c%3A/Users/Dell/Desktop/Team%20Enterprenure/new.ipynb#W2sZmlsZQ%3D%3D?line=72'>73</a>\u001b[0m df[\u001b[39m\"\u001b[39m\u001b[39mcontinent\u001b[39m\u001b[39m\"\u001b[39m]\u001b[39m=\u001b[39mcontinent\n",
      "\u001b[1;32mc:\\Users\\Dell\\Desktop\\Team Enterprenure\\new.ipynb Cell 13\u001b[0m in \u001b[0;36mcountry_to_continent\u001b[1;34m(country_name)\u001b[0m\n\u001b[0;32m      <a href='vscode-notebook-cell:/c%3A/Users/Dell/Desktop/Team%20Enterprenure/new.ipynb#W2sZmlsZQ%3D%3D?line=5'>6</a>\u001b[0m \u001b[39mdef\u001b[39;00m \u001b[39mcountry_to_continent\u001b[39m(country_name):\n\u001b[1;32m----> <a href='vscode-notebook-cell:/c%3A/Users/Dell/Desktop/Team%20Enterprenure/new.ipynb#W2sZmlsZQ%3D%3D?line=6'>7</a>\u001b[0m     country_alpha2 \u001b[39m=\u001b[39m pc\u001b[39m.\u001b[39;49mcountry_name_to_country_alpha2(country_name)\n\u001b[0;32m      <a href='vscode-notebook-cell:/c%3A/Users/Dell/Desktop/Team%20Enterprenure/new.ipynb#W2sZmlsZQ%3D%3D?line=7'>8</a>\u001b[0m     country_continent_code \u001b[39m=\u001b[39m pc\u001b[39m.\u001b[39mcountry_alpha2_to_continent_code(country_alpha2)\n\u001b[0;32m      <a href='vscode-notebook-cell:/c%3A/Users/Dell/Desktop/Team%20Enterprenure/new.ipynb#W2sZmlsZQ%3D%3D?line=8'>9</a>\u001b[0m     country_continent_name \u001b[39m=\u001b[39m pc\u001b[39m.\u001b[39mconvert_continent_code_to_continent_name(country_continent_code)\n",
      "File \u001b[1;32mc:\\Users\\Dell\\miniconda3\\envs\\pandas_env\\lib\\site-packages\\pycountry_convert\\convert_countries.py:71\u001b[0m, in \u001b[0;36mcountry_name_to_country_alpha2\u001b[1;34m(cn_name, cn_name_format)\u001b[0m\n\u001b[0;32m     68\u001b[0m     \u001b[39mreturn\u001b[39;00m cn_name\n\u001b[0;32m     70\u001b[0m \u001b[39mif\u001b[39;00m cn_name \u001b[39mnot\u001b[39;00m \u001b[39min\u001b[39;00m dict_country_name_to_country_alpha2:\n\u001b[1;32m---> 71\u001b[0m     \u001b[39mraise\u001b[39;00m \u001b[39mKeyError\u001b[39;00m(\u001b[39m\"\u001b[39m\u001b[39mInvalid Country Name: \u001b[39m\u001b[39m'\u001b[39m\u001b[39m{0}\u001b[39;00m\u001b[39m'\u001b[39m\u001b[39m\"\u001b[39m\u001b[39m.\u001b[39mformat(cn_name))\n\u001b[0;32m     73\u001b[0m \u001b[39mreturn\u001b[39;00m dict_country_name_to_country_alpha2[cn_name]\n",
      "\u001b[1;31mKeyError\u001b[0m: \"Invalid Country Name: 'Belgium-Luxembourg'\""
     ]
    }
   ],
   "source": [
    "#Adding a new column of Continent \n",
    "#pip install pycountry_convert\n",
    "# # #Making new columns of Continent for Visualization\n",
    "\n",
    "import pycountry_convert as pc\n",
    "def country_to_continent(country_name):\n",
    "    country_alpha2 = pc.country_name_to_country_alpha2(country_name)\n",
    "    country_continent_code = pc.country_alpha2_to_continent_code(country_alpha2)\n",
    "    country_continent_name = pc.convert_continent_code_to_continent_name(country_continent_code)\n",
    "    return country_continent_name\n",
    "# Example\n",
    "# country_name = 'Chagos Archipelago'\n",
    "# print(country_to_continent(country_name))\n",
    "continent=[]\n",
    "for i in df['Area']:\n",
    "    \n",
    "   if i=='Chagos Archipelago':\n",
    "       continent.append('Africa')\n",
    "       \n",
    "   elif i=='Western Sahara':\n",
    "       continent.append('Africa')\n",
    "   elif i=='Channel Islands'  :\n",
    "       continent.append('Europe')\n",
    "   elif i=='China, Hong Kong SAR'  :\n",
    "       continent.append('Asia')\n",
    "   elif i=='China, Macao SAR'  :\n",
    "       continent.append('Asia')\n",
    "   elif i=='China, mainland'  :\n",
    "       continent.append('Asia')\n",
    "   elif i=='China, Taiwan Province of'  :\n",
    "       continent.append('Asia')\n",
    "   elif i=='French Guyana'  :\n",
    "       continent.append('South America')\n",
    "   elif i=='French Southern Territories'  :\n",
    "       continent.append('Antarctica')\n",
    "   elif i=='Heard and McDonald Islands'  :\n",
    "       continent.append('Antarctica')\n",
    "   elif i=='Holy See'  :\n",
    "       continent.append('Europe')\n",
    "   elif i=='Iran (Islamic Republic of)'  :\n",
    "       continent.append('Europe')\n",
    "   elif i=='Johnston Island'  :\n",
    "       continent.append('Oceania')\n",
    "   elif i=='Micronesia (Federated States of)'  :\n",
    "       continent.append('Oceania')\n",
    "   elif i=='Midway Island'  :\n",
    "       continent.append('North America')\n",
    "   elif i=='Netherlands Antilles (former)'  :\n",
    "       continent.append('Europe')\n",
    "   elif i=='Pitcairn'  :\n",
    "       continent.append('Oceania')\n",
    "   elif i=='Wake Island'  :\n",
    "       continent.append('Oceania')\n",
    "   elif i=='Wallis and Futuna Islands'  :\n",
    "       continent.append('Oceania')\n",
    "   elif i=='Republic of Korea'  :\n",
    "       continent.append('Asia')\n",
    "   elif i=='Serbia and Montenegro'  :\n",
    "       continent.append('Europe')\n",
    "   elif i=='Sudan (former)'  :\n",
    "       continent.append('Asia')\n",
    "   elif i=='Timor-Leste'  :\n",
    "       continent.append('Asia')\n",
    "   elif i=='Venezuela (Bolivarian Republic of)'  :\n",
    "       continent.append('South America')\n",
    "   elif i=='Antarctica' :\n",
    "       continent.append('Antarctica')\n",
    "   elif i=='Bolivia (Plurinational State of)' :\n",
    "       continent.append('South America')\n",
    "   else:\n",
    "      continent.append(country_to_continent(i))\n",
    "\n",
    "df[\"continent\"]=continent"
   ]
  },
  {
   "cell_type": "code",
   "execution_count": null,
   "metadata": {},
   "outputs": [],
   "source": []
  }
 ],
 "metadata": {
  "kernelspec": {
   "display_name": "Python 3.10.4 ('pandas_env')",
   "language": "python",
   "name": "python3"
  },
  "language_info": {
   "codemirror_mode": {
    "name": "ipython",
    "version": 3
   },
   "file_extension": ".py",
   "mimetype": "text/x-python",
   "name": "python",
   "nbconvert_exporter": "python",
   "pygments_lexer": "ipython3",
   "version": "3.10.4"
  },
  "orig_nbformat": 4,
  "vscode": {
   "interpreter": {
    "hash": "b6d40e1a6136135b06ce405adc3a98b7c58668c8c7e51c477a7f33f420c028b6"
   }
  }
 },
 "nbformat": 4,
 "nbformat_minor": 2
}
