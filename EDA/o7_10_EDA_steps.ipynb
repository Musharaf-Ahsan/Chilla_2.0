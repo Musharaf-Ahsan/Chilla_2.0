{
 "cells": [
  {
   "cell_type": "markdown",
   "metadata": {},
   "source": [
    "# **Exploratory data Analysis**"
   ]
  },
  {
   "cell_type": "markdown",
   "metadata": {},
   "source": [
    "# EDA and its 10 important steps"
   ]
  },
  {
   "cell_type": "code",
   "execution_count": 1,
   "metadata": {},
   "outputs": [],
   "source": [
    "# Import Libraries\n",
    "import pandas as pd\n",
    "import numpy as np\n",
    "import matplotlib.pyplot as plt\n",
    "import seaborn as sns"
   ]
  },
  {
   "cell_type": "code",
   "execution_count": 2,
   "metadata": {},
   "outputs": [],
   "source": [
    "# Load Dataset\n",
    "df = sns.load_dataset('titanic')\n",
    "df1= sns.load_dataset('tips')\n"
   ]
  },
  {
   "cell_type": "code",
   "execution_count": 3,
   "metadata": {},
   "outputs": [
    {
     "data": {
      "text/plain": [
       "(891, 15)"
      ]
     },
     "execution_count": 3,
     "metadata": {},
     "output_type": "execute_result"
    }
   ],
   "source": [
    "# Step 1: Data shape\n",
    "df.shape"
   ]
  },
  {
   "cell_type": "markdown",
   "metadata": {},
   "source": [
    "# Smple\n",
    "- If Dataset is too large to fit in memory, we can use sample() to get a random sample of the data.\n",
    "- after selecting some data meke analysis on it.\n",
    "- When analysis complete we can drop the sample from memory. and run all script with original dataset.\n",
    "  ## df = df.sample(1000)"
   ]
  },
  {
   "cell_type": "code",
   "execution_count": 4,
   "metadata": {},
   "outputs": [
    {
     "name": "stdout",
     "output_type": "stream",
     "text": [
      "Number of rows: 891\n",
      "Number of columns: 15\n"
     ]
    }
   ],
   "source": [
    "rows, cols = df.shape\n",
    "print(\"Number of rows:\", rows)  # instance of dataframe\n",
    "print(\"Number of columns:\", cols)   # instance of dataframe/series"
   ]
  },
  {
   "cell_type": "code",
   "execution_count": 5,
   "metadata": {},
   "outputs": [
    {
     "name": "stdout",
     "output_type": "stream",
     "text": [
      "<class 'pandas.core.frame.DataFrame'>\n",
      "RangeIndex: 891 entries, 0 to 890\n",
      "Data columns (total 15 columns):\n",
      " #   Column       Non-Null Count  Dtype   \n",
      "---  ------       --------------  -----   \n",
      " 0   survived     891 non-null    int64   \n",
      " 1   pclass       891 non-null    int64   \n",
      " 2   sex          891 non-null    object  \n",
      " 3   age          714 non-null    float64 \n",
      " 4   sibsp        891 non-null    int64   \n",
      " 5   parch        891 non-null    int64   \n",
      " 6   fare         891 non-null    float64 \n",
      " 7   embarked     889 non-null    object  \n",
      " 8   class        891 non-null    category\n",
      " 9   who          891 non-null    object  \n",
      " 10  adult_male   891 non-null    bool    \n",
      " 11  deck         203 non-null    category\n",
      " 12  embark_town  889 non-null    object  \n",
      " 13  alive        891 non-null    object  \n",
      " 14  alone        891 non-null    bool    \n",
      "dtypes: bool(2), category(2), float64(2), int64(4), object(5)\n",
      "memory usage: 80.7+ KB\n"
     ]
    }
   ],
   "source": [
    "# Step 2: Data Structure/ info\n",
    "df.info()"
   ]
  },
  {
   "cell_type": "code",
   "execution_count": 6,
   "metadata": {},
   "outputs": [
    {
     "data": {
      "text/plain": [
       "survived         0\n",
       "pclass           0\n",
       "sex              0\n",
       "age            177\n",
       "sibsp            0\n",
       "parch            0\n",
       "fare             0\n",
       "embarked         2\n",
       "class            0\n",
       "who              0\n",
       "adult_male       0\n",
       "deck           688\n",
       "embark_town      2\n",
       "alive            0\n",
       "alone            0\n",
       "dtype: int64"
      ]
     },
     "execution_count": 6,
     "metadata": {},
     "output_type": "execute_result"
    }
   ],
   "source": [
    "# Step 3: Finding missing values\n",
    "df.isnull().sum()"
   ]
  },
  {
   "cell_type": "code",
   "execution_count": 7,
   "metadata": {},
   "outputs": [
    {
     "data": {
      "text/plain": [
       "survived        0.000000\n",
       "pclass          0.000000\n",
       "sex             0.000000\n",
       "age            19.865320\n",
       "sibsp           0.000000\n",
       "parch           0.000000\n",
       "fare            0.000000\n",
       "embarked        0.224467\n",
       "class           0.000000\n",
       "who             0.000000\n",
       "adult_male      0.000000\n",
       "deck           77.216611\n",
       "embark_town     0.224467\n",
       "alive           0.000000\n",
       "alone           0.000000\n",
       "dtype: float64"
      ]
     },
     "execution_count": 7,
     "metadata": {},
     "output_type": "execute_result"
    }
   ],
   "source": [
    "# Percent calculation of missing values\n",
    "df.isnull().sum() / df.shape[0] * 100\n",
    "# df.isnull().sum() / 891 * 100"
   ]
  },
  {
   "cell_type": "code",
   "execution_count": 19,
   "metadata": {},
   "outputs": [
    {
     "data": {
      "text/html": [
       "<div>\n",
       "<style scoped>\n",
       "    .dataframe tbody tr th:only-of-type {\n",
       "        vertical-align: middle;\n",
       "    }\n",
       "\n",
       "    .dataframe tbody tr th {\n",
       "        vertical-align: top;\n",
       "    }\n",
       "\n",
       "    .dataframe thead th {\n",
       "        text-align: right;\n",
       "    }\n",
       "</style>\n",
       "<table border=\"1\" class=\"dataframe\">\n",
       "  <thead>\n",
       "    <tr style=\"text-align: right;\">\n",
       "      <th></th>\n",
       "      <th>address</th>\n",
       "      <th>males</th>\n",
       "      <th>females</th>\n",
       "    </tr>\n",
       "  </thead>\n",
       "  <tbody>\n",
       "    <tr>\n",
       "      <th>0</th>\n",
       "      <td>Lahore, Pakistan</td>\n",
       "      <td>67</td>\n",
       "      <td>100</td>\n",
       "    </tr>\n",
       "    <tr>\n",
       "      <th>1</th>\n",
       "      <td>Dehli, India</td>\n",
       "      <td>5</td>\n",
       "      <td>6</td>\n",
       "    </tr>\n",
       "    <tr>\n",
       "      <th>2</th>\n",
       "      <td>Mumbai, India</td>\n",
       "      <td>5</td>\n",
       "      <td>6</td>\n",
       "    </tr>\n",
       "    <tr>\n",
       "      <th>3</th>\n",
       "      <td>Karachi, Pakistan</td>\n",
       "      <td>85</td>\n",
       "      <td>49</td>\n",
       "    </tr>\n",
       "  </tbody>\n",
       "</table>\n",
       "</div>"
      ],
      "text/plain": [
       "             address males females\n",
       "0   Lahore, Pakistan    67     100\n",
       "1       Dehli, India     5       6\n",
       "2      Mumbai, India     5       6\n",
       "3  Karachi, Pakistan    85      49"
      ]
     },
     "execution_count": 19,
     "metadata": {},
     "output_type": "execute_result"
    }
   ],
   "source": [
    "# Step 4: Split Variables for new column needed / Feature Engineering\n",
    "city = pd.DataFrame(np.array([['Lahore, Pakistan',67,100], ['Dehli, India',5,6], ['Mumbai, India',5,6], ['Karachi, Pakistan',85,49]]), \n",
    "                    columns=['address', 'males','females'])\n",
    "city\n"
   ]
  },
  {
   "cell_type": "code",
   "execution_count": 20,
   "metadata": {},
   "outputs": [
    {
     "data": {
      "text/html": [
       "<div>\n",
       "<style scoped>\n",
       "    .dataframe tbody tr th:only-of-type {\n",
       "        vertical-align: middle;\n",
       "    }\n",
       "\n",
       "    .dataframe tbody tr th {\n",
       "        vertical-align: top;\n",
       "    }\n",
       "\n",
       "    .dataframe thead th {\n",
       "        text-align: right;\n",
       "    }\n",
       "</style>\n",
       "<table border=\"1\" class=\"dataframe\">\n",
       "  <thead>\n",
       "    <tr style=\"text-align: right;\">\n",
       "      <th></th>\n",
       "      <th>address</th>\n",
       "      <th>males</th>\n",
       "      <th>females</th>\n",
       "      <th>city</th>\n",
       "      <th>country</th>\n",
       "    </tr>\n",
       "  </thead>\n",
       "  <tbody>\n",
       "    <tr>\n",
       "      <th>0</th>\n",
       "      <td>Lahore, Pakistan</td>\n",
       "      <td>67</td>\n",
       "      <td>100</td>\n",
       "      <td>Lahore</td>\n",
       "      <td>Pakistan</td>\n",
       "    </tr>\n",
       "    <tr>\n",
       "      <th>1</th>\n",
       "      <td>Dehli, India</td>\n",
       "      <td>5</td>\n",
       "      <td>6</td>\n",
       "      <td>Dehli</td>\n",
       "      <td>India</td>\n",
       "    </tr>\n",
       "    <tr>\n",
       "      <th>2</th>\n",
       "      <td>Mumbai, India</td>\n",
       "      <td>5</td>\n",
       "      <td>6</td>\n",
       "      <td>Mumbai</td>\n",
       "      <td>India</td>\n",
       "    </tr>\n",
       "    <tr>\n",
       "      <th>3</th>\n",
       "      <td>Karachi, Pakistan</td>\n",
       "      <td>85</td>\n",
       "      <td>49</td>\n",
       "      <td>Karachi</td>\n",
       "      <td>Pakistan</td>\n",
       "    </tr>\n",
       "  </tbody>\n",
       "</table>\n",
       "</div>"
      ],
      "text/plain": [
       "             address males females     city   country\n",
       "0   Lahore, Pakistan    67     100   Lahore  Pakistan\n",
       "1       Dehli, India     5       6    Dehli     India\n",
       "2      Mumbai, India     5       6   Mumbai     India\n",
       "3  Karachi, Pakistan    85      49  Karachi  Pakistan"
      ]
     },
     "execution_count": 20,
     "metadata": {},
     "output_type": "execute_result"
    }
   ],
   "source": [
    "city[['city', 'country']] = city['address'].str.split(', ', expand=True)\n",
    "city"
   ]
  },
  {
   "cell_type": "code",
   "execution_count": 21,
   "metadata": {},
   "outputs": [
    {
     "name": "stdout",
     "output_type": "stream",
     "text": [
      "<class 'pandas.core.frame.DataFrame'>\n",
      "RangeIndex: 4 entries, 0 to 3\n",
      "Data columns (total 5 columns):\n",
      " #   Column   Non-Null Count  Dtype \n",
      "---  ------   --------------  ----- \n",
      " 0   address  4 non-null      object\n",
      " 1   males    4 non-null      object\n",
      " 2   females  4 non-null      object\n",
      " 3   city     4 non-null      object\n",
      " 4   country  4 non-null      object\n",
      "dtypes: object(5)\n",
      "memory usage: 288.0+ bytes\n"
     ]
    }
   ],
   "source": [
    "# Step 5: Type Casting / conversion of Data types\n",
    "city.info()"
   ]
  },
  {
   "cell_type": "code",
   "execution_count": 32,
   "metadata": {},
   "outputs": [
    {
     "name": "stdout",
     "output_type": "stream",
     "text": [
      "<class 'pandas.core.frame.DataFrame'>\n",
      "RangeIndex: 4 entries, 0 to 3\n",
      "Data columns (total 5 columns):\n",
      " #   Column   Non-Null Count  Dtype \n",
      "---  ------   --------------  ----- \n",
      " 0   address  4 non-null      object\n",
      " 1   males    4 non-null      int32 \n",
      " 2   females  4 non-null      int32 \n",
      " 3   city     4 non-null      object\n",
      " 4   country  4 non-null      object\n",
      "dtypes: int32(2), object(3)\n",
      "memory usage: 256.0+ bytes\n"
     ]
    }
   ],
   "source": [
    "# To convert into an int\n",
    "city[['males', 'females']] = city[['males', 'females']].astype('int')\n",
    "city.info()"
   ]
  },
  {
   "cell_type": "code",
   "execution_count": 33,
   "metadata": {},
   "outputs": [
    {
     "name": "stdout",
     "output_type": "stream",
     "text": [
      "<class 'pandas.core.frame.DataFrame'>\n",
      "RangeIndex: 4 entries, 0 to 3\n",
      "Data columns (total 5 columns):\n",
      " #   Column   Non-Null Count  Dtype \n",
      "---  ------   --------------  ----- \n",
      " 0   address  4 non-null      object\n",
      " 1   males    4 non-null      int32 \n",
      " 2   females  4 non-null      int32 \n",
      " 3   city     4 non-null      string\n",
      " 4   country  4 non-null      string\n",
      "dtypes: int32(2), object(1), string(2)\n",
      "memory usage: 256.0+ bytes\n"
     ]
    }
   ],
   "source": [
    "# To convert into a string\n",
    "city[['city', 'country']] = city[['city', 'country']].astype('string')\n",
    "city.info()"
   ]
  },
  {
   "cell_type": "code",
   "execution_count": 35,
   "metadata": {},
   "outputs": [
    {
     "data": {
      "text/html": [
       "<div>\n",
       "<style scoped>\n",
       "    .dataframe tbody tr th:only-of-type {\n",
       "        vertical-align: middle;\n",
       "    }\n",
       "\n",
       "    .dataframe tbody tr th {\n",
       "        vertical-align: top;\n",
       "    }\n",
       "\n",
       "    .dataframe thead th {\n",
       "        text-align: right;\n",
       "    }\n",
       "</style>\n",
       "<table border=\"1\" class=\"dataframe\">\n",
       "  <thead>\n",
       "    <tr style=\"text-align: right;\">\n",
       "      <th></th>\n",
       "      <th>survived</th>\n",
       "      <th>pclass</th>\n",
       "      <th>age</th>\n",
       "      <th>sibsp</th>\n",
       "      <th>parch</th>\n",
       "      <th>fare</th>\n",
       "    </tr>\n",
       "  </thead>\n",
       "  <tbody>\n",
       "    <tr>\n",
       "      <th>count</th>\n",
       "      <td>891.000000</td>\n",
       "      <td>891.000000</td>\n",
       "      <td>714.000000</td>\n",
       "      <td>891.000000</td>\n",
       "      <td>891.000000</td>\n",
       "      <td>891.000000</td>\n",
       "    </tr>\n",
       "    <tr>\n",
       "      <th>mean</th>\n",
       "      <td>0.383838</td>\n",
       "      <td>2.308642</td>\n",
       "      <td>29.699118</td>\n",
       "      <td>0.523008</td>\n",
       "      <td>0.381594</td>\n",
       "      <td>32.204208</td>\n",
       "    </tr>\n",
       "    <tr>\n",
       "      <th>std</th>\n",
       "      <td>0.486592</td>\n",
       "      <td>0.836071</td>\n",
       "      <td>14.526497</td>\n",
       "      <td>1.102743</td>\n",
       "      <td>0.806057</td>\n",
       "      <td>49.693429</td>\n",
       "    </tr>\n",
       "    <tr>\n",
       "      <th>min</th>\n",
       "      <td>0.000000</td>\n",
       "      <td>1.000000</td>\n",
       "      <td>0.420000</td>\n",
       "      <td>0.000000</td>\n",
       "      <td>0.000000</td>\n",
       "      <td>0.000000</td>\n",
       "    </tr>\n",
       "    <tr>\n",
       "      <th>25%</th>\n",
       "      <td>0.000000</td>\n",
       "      <td>2.000000</td>\n",
       "      <td>20.125000</td>\n",
       "      <td>0.000000</td>\n",
       "      <td>0.000000</td>\n",
       "      <td>7.910400</td>\n",
       "    </tr>\n",
       "    <tr>\n",
       "      <th>50%</th>\n",
       "      <td>0.000000</td>\n",
       "      <td>3.000000</td>\n",
       "      <td>28.000000</td>\n",
       "      <td>0.000000</td>\n",
       "      <td>0.000000</td>\n",
       "      <td>14.454200</td>\n",
       "    </tr>\n",
       "    <tr>\n",
       "      <th>75%</th>\n",
       "      <td>1.000000</td>\n",
       "      <td>3.000000</td>\n",
       "      <td>38.000000</td>\n",
       "      <td>1.000000</td>\n",
       "      <td>0.000000</td>\n",
       "      <td>31.000000</td>\n",
       "    </tr>\n",
       "    <tr>\n",
       "      <th>max</th>\n",
       "      <td>1.000000</td>\n",
       "      <td>3.000000</td>\n",
       "      <td>80.000000</td>\n",
       "      <td>8.000000</td>\n",
       "      <td>6.000000</td>\n",
       "      <td>512.329200</td>\n",
       "    </tr>\n",
       "  </tbody>\n",
       "</table>\n",
       "</div>"
      ],
      "text/plain": [
       "         survived      pclass         age       sibsp       parch        fare\n",
       "count  891.000000  891.000000  714.000000  891.000000  891.000000  891.000000\n",
       "mean     0.383838    2.308642   29.699118    0.523008    0.381594   32.204208\n",
       "std      0.486592    0.836071   14.526497    1.102743    0.806057   49.693429\n",
       "min      0.000000    1.000000    0.420000    0.000000    0.000000    0.000000\n",
       "25%      0.000000    2.000000   20.125000    0.000000    0.000000    7.910400\n",
       "50%      0.000000    3.000000   28.000000    0.000000    0.000000   14.454200\n",
       "75%      1.000000    3.000000   38.000000    1.000000    0.000000   31.000000\n",
       "max      1.000000    3.000000   80.000000    8.000000    6.000000  512.329200"
      ]
     },
     "execution_count": 35,
     "metadata": {},
     "output_type": "execute_result"
    }
   ],
   "source": [
    "# Step 6: Summary Statistics\n",
    "df.describe()"
   ]
  },
  {
   "cell_type": "code",
   "execution_count": 37,
   "metadata": {},
   "outputs": [
    {
     "data": {
      "text/plain": [
       "24.00    30\n",
       "22.00    27\n",
       "18.00    26\n",
       "19.00    25\n",
       "28.00    25\n",
       "         ..\n",
       "36.50     1\n",
       "55.50     1\n",
       "0.92      1\n",
       "23.50     1\n",
       "74.00     1\n",
       "Name: age, Length: 88, dtype: int64"
      ]
     },
     "execution_count": 37,
     "metadata": {},
     "output_type": "execute_result"
    }
   ],
   "source": [
    "# Step 7: Value Count of specific column\n",
    "df.age.value_counts()"
   ]
  },
  {
   "cell_type": "code",
   "execution_count": 41,
   "metadata": {},
   "outputs": [
    {
     "data": {
      "text/html": [
       "<div>\n",
       "<style scoped>\n",
       "    .dataframe tbody tr th:only-of-type {\n",
       "        vertical-align: middle;\n",
       "    }\n",
       "\n",
       "    .dataframe tbody tr th {\n",
       "        vertical-align: top;\n",
       "    }\n",
       "\n",
       "    .dataframe thead th {\n",
       "        text-align: right;\n",
       "    }\n",
       "</style>\n",
       "<table border=\"1\" class=\"dataframe\">\n",
       "  <thead>\n",
       "    <tr style=\"text-align: right;\">\n",
       "      <th></th>\n",
       "      <th>survived</th>\n",
       "      <th>pclass</th>\n",
       "      <th>sex</th>\n",
       "      <th>age</th>\n",
       "      <th>sibsp</th>\n",
       "      <th>parch</th>\n",
       "      <th>fare</th>\n",
       "      <th>embarked</th>\n",
       "      <th>class</th>\n",
       "      <th>who</th>\n",
       "      <th>adult_male</th>\n",
       "      <th>deck</th>\n",
       "      <th>embark_town</th>\n",
       "      <th>alive</th>\n",
       "      <th>alone</th>\n",
       "    </tr>\n",
       "  </thead>\n",
       "  <tbody>\n",
       "    <tr>\n",
       "      <th>5</th>\n",
       "      <td>0</td>\n",
       "      <td>3</td>\n",
       "      <td>male</td>\n",
       "      <td>NaN</td>\n",
       "      <td>0</td>\n",
       "      <td>0</td>\n",
       "      <td>8.4583</td>\n",
       "      <td>Q</td>\n",
       "      <td>Third</td>\n",
       "      <td>man</td>\n",
       "      <td>True</td>\n",
       "      <td>NaN</td>\n",
       "      <td>Queenstown</td>\n",
       "      <td>no</td>\n",
       "      <td>True</td>\n",
       "    </tr>\n",
       "    <tr>\n",
       "      <th>16</th>\n",
       "      <td>0</td>\n",
       "      <td>3</td>\n",
       "      <td>male</td>\n",
       "      <td>2.0</td>\n",
       "      <td>4</td>\n",
       "      <td>1</td>\n",
       "      <td>29.1250</td>\n",
       "      <td>Q</td>\n",
       "      <td>Third</td>\n",
       "      <td>child</td>\n",
       "      <td>False</td>\n",
       "      <td>NaN</td>\n",
       "      <td>Queenstown</td>\n",
       "      <td>no</td>\n",
       "      <td>False</td>\n",
       "    </tr>\n",
       "    <tr>\n",
       "      <th>22</th>\n",
       "      <td>1</td>\n",
       "      <td>3</td>\n",
       "      <td>female</td>\n",
       "      <td>15.0</td>\n",
       "      <td>0</td>\n",
       "      <td>0</td>\n",
       "      <td>8.0292</td>\n",
       "      <td>Q</td>\n",
       "      <td>Third</td>\n",
       "      <td>child</td>\n",
       "      <td>False</td>\n",
       "      <td>NaN</td>\n",
       "      <td>Queenstown</td>\n",
       "      <td>yes</td>\n",
       "      <td>True</td>\n",
       "    </tr>\n",
       "    <tr>\n",
       "      <th>28</th>\n",
       "      <td>1</td>\n",
       "      <td>3</td>\n",
       "      <td>female</td>\n",
       "      <td>NaN</td>\n",
       "      <td>0</td>\n",
       "      <td>0</td>\n",
       "      <td>7.8792</td>\n",
       "      <td>Q</td>\n",
       "      <td>Third</td>\n",
       "      <td>woman</td>\n",
       "      <td>False</td>\n",
       "      <td>NaN</td>\n",
       "      <td>Queenstown</td>\n",
       "      <td>yes</td>\n",
       "      <td>True</td>\n",
       "    </tr>\n",
       "    <tr>\n",
       "      <th>32</th>\n",
       "      <td>1</td>\n",
       "      <td>3</td>\n",
       "      <td>female</td>\n",
       "      <td>NaN</td>\n",
       "      <td>0</td>\n",
       "      <td>0</td>\n",
       "      <td>7.7500</td>\n",
       "      <td>Q</td>\n",
       "      <td>Third</td>\n",
       "      <td>woman</td>\n",
       "      <td>False</td>\n",
       "      <td>NaN</td>\n",
       "      <td>Queenstown</td>\n",
       "      <td>yes</td>\n",
       "      <td>True</td>\n",
       "    </tr>\n",
       "    <tr>\n",
       "      <th>...</th>\n",
       "      <td>...</td>\n",
       "      <td>...</td>\n",
       "      <td>...</td>\n",
       "      <td>...</td>\n",
       "      <td>...</td>\n",
       "      <td>...</td>\n",
       "      <td>...</td>\n",
       "      <td>...</td>\n",
       "      <td>...</td>\n",
       "      <td>...</td>\n",
       "      <td>...</td>\n",
       "      <td>...</td>\n",
       "      <td>...</td>\n",
       "      <td>...</td>\n",
       "      <td>...</td>\n",
       "    </tr>\n",
       "    <tr>\n",
       "      <th>790</th>\n",
       "      <td>0</td>\n",
       "      <td>3</td>\n",
       "      <td>male</td>\n",
       "      <td>NaN</td>\n",
       "      <td>0</td>\n",
       "      <td>0</td>\n",
       "      <td>7.7500</td>\n",
       "      <td>Q</td>\n",
       "      <td>Third</td>\n",
       "      <td>man</td>\n",
       "      <td>True</td>\n",
       "      <td>NaN</td>\n",
       "      <td>Queenstown</td>\n",
       "      <td>no</td>\n",
       "      <td>True</td>\n",
       "    </tr>\n",
       "    <tr>\n",
       "      <th>825</th>\n",
       "      <td>0</td>\n",
       "      <td>3</td>\n",
       "      <td>male</td>\n",
       "      <td>NaN</td>\n",
       "      <td>0</td>\n",
       "      <td>0</td>\n",
       "      <td>6.9500</td>\n",
       "      <td>Q</td>\n",
       "      <td>Third</td>\n",
       "      <td>man</td>\n",
       "      <td>True</td>\n",
       "      <td>NaN</td>\n",
       "      <td>Queenstown</td>\n",
       "      <td>no</td>\n",
       "      <td>True</td>\n",
       "    </tr>\n",
       "    <tr>\n",
       "      <th>828</th>\n",
       "      <td>1</td>\n",
       "      <td>3</td>\n",
       "      <td>male</td>\n",
       "      <td>NaN</td>\n",
       "      <td>0</td>\n",
       "      <td>0</td>\n",
       "      <td>7.7500</td>\n",
       "      <td>Q</td>\n",
       "      <td>Third</td>\n",
       "      <td>man</td>\n",
       "      <td>True</td>\n",
       "      <td>NaN</td>\n",
       "      <td>Queenstown</td>\n",
       "      <td>yes</td>\n",
       "      <td>True</td>\n",
       "    </tr>\n",
       "    <tr>\n",
       "      <th>885</th>\n",
       "      <td>0</td>\n",
       "      <td>3</td>\n",
       "      <td>female</td>\n",
       "      <td>39.0</td>\n",
       "      <td>0</td>\n",
       "      <td>5</td>\n",
       "      <td>29.1250</td>\n",
       "      <td>Q</td>\n",
       "      <td>Third</td>\n",
       "      <td>woman</td>\n",
       "      <td>False</td>\n",
       "      <td>NaN</td>\n",
       "      <td>Queenstown</td>\n",
       "      <td>no</td>\n",
       "      <td>False</td>\n",
       "    </tr>\n",
       "    <tr>\n",
       "      <th>890</th>\n",
       "      <td>0</td>\n",
       "      <td>3</td>\n",
       "      <td>male</td>\n",
       "      <td>32.0</td>\n",
       "      <td>0</td>\n",
       "      <td>0</td>\n",
       "      <td>7.7500</td>\n",
       "      <td>Q</td>\n",
       "      <td>Third</td>\n",
       "      <td>man</td>\n",
       "      <td>True</td>\n",
       "      <td>NaN</td>\n",
       "      <td>Queenstown</td>\n",
       "      <td>no</td>\n",
       "      <td>True</td>\n",
       "    </tr>\n",
       "  </tbody>\n",
       "</table>\n",
       "<p>77 rows × 15 columns</p>\n",
       "</div>"
      ],
      "text/plain": [
       "     survived  pclass     sex   age  sibsp  parch     fare embarked  class  \\\n",
       "5           0       3    male   NaN      0      0   8.4583        Q  Third   \n",
       "16          0       3    male   2.0      4      1  29.1250        Q  Third   \n",
       "22          1       3  female  15.0      0      0   8.0292        Q  Third   \n",
       "28          1       3  female   NaN      0      0   7.8792        Q  Third   \n",
       "32          1       3  female   NaN      0      0   7.7500        Q  Third   \n",
       "..        ...     ...     ...   ...    ...    ...      ...      ...    ...   \n",
       "790         0       3    male   NaN      0      0   7.7500        Q  Third   \n",
       "825         0       3    male   NaN      0      0   6.9500        Q  Third   \n",
       "828         1       3    male   NaN      0      0   7.7500        Q  Third   \n",
       "885         0       3  female  39.0      0      5  29.1250        Q  Third   \n",
       "890         0       3    male  32.0      0      0   7.7500        Q  Third   \n",
       "\n",
       "       who  adult_male deck embark_town alive  alone  \n",
       "5      man        True  NaN  Queenstown    no   True  \n",
       "16   child       False  NaN  Queenstown    no  False  \n",
       "22   child       False  NaN  Queenstown   yes   True  \n",
       "28   woman       False  NaN  Queenstown   yes   True  \n",
       "32   woman       False  NaN  Queenstown   yes   True  \n",
       "..     ...         ...  ...         ...   ...    ...  \n",
       "790    man        True  NaN  Queenstown    no   True  \n",
       "825    man        True  NaN  Queenstown    no   True  \n",
       "828    man        True  NaN  Queenstown   yes   True  \n",
       "885  woman       False  NaN  Queenstown    no  False  \n",
       "890    man        True  NaN  Queenstown    no   True  \n",
       "\n",
       "[77 rows x 15 columns]"
      ]
     },
     "execution_count": 41,
     "metadata": {},
     "output_type": "execute_result"
    }
   ],
   "source": [
    "# Step 8: Deal with duplicates (remove) / and\\or null values (mean, meadian ----- other methods)\n",
    "df [df.embark_town == 'Queenstown'] # this will show the people only embarked from Queenstown in Titanic."
   ]
  },
  {
   "cell_type": "code",
   "execution_count": 52,
   "metadata": {},
   "outputs": [
    {
     "data": {
      "text/plain": [
       "<AxesSubplot:xlabel='age', ylabel='Count'>"
      ]
     },
     "execution_count": 52,
     "metadata": {},
     "output_type": "execute_result"
    },
    {
     "data": {
      "image/png": "[encoded data removed]",
      "text/plain": [
       "<Figure size 432x288 with 1 Axes>"
      ]
     },
     "metadata": {
      "needs_background": "light"
     },
     "output_type": "display_data"
    }
   ],
   "source": [
    "# Step 9: Check Normality/ standard normal distribution\n",
    "sns.histplot(df['age'])"
   ]
  },
  {
   "cell_type": "code",
   "execution_count": 55,
   "metadata": {},
   "outputs": [
    {
     "data": {
      "text/plain": [
       "skew        0.389108\n",
       "kurtosis    0.178274\n",
       "Name: age, dtype: float64"
      ]
     },
     "execution_count": 55,
     "metadata": {},
     "output_type": "execute_result"
    }
   ],
   "source": [
    "# measure its skewness and kurtosis\n",
    "df['age'].agg(['skew', 'kurtosis']).transpose()"
   ]
  },
  {
   "cell_type": "code",
   "execution_count": 60,
   "metadata": {},
   "outputs": [
    {
     "name": "stderr",
     "output_type": "stream",
     "text": [
      "c:\\Users\\Dell\\miniconda3\\envs\\pandas_env\\lib\\site-packages\\seaborn\\_decorators.py:36: FutureWarning: Pass the following variable as a keyword arg: x. From version 0.12, the only valid positional argument will be `data`, and passing other arguments without an explicit keyword will result in an error or misinterpretation.\n",
      "  warnings.warn(\n"
     ]
    },
    {
     "data": {
      "text/plain": [
       "<AxesSubplot:xlabel='age'>"
      ]
     },
     "execution_count": 60,
     "metadata": {},
     "output_type": "execute_result"
    },
    {
     "data": {
      "image/png": "[encoded data removed]",
      "text/plain": [
       "<Figure size 432x288 with 1 Axes>"
      ]
     },
     "metadata": {
      "needs_background": "light"
     },
     "output_type": "display_data"
    }
   ],
   "source": [
    "sns.boxplot(df['age'], color= 'blue')"
   ]
  },
  {
   "cell_type": "code",
   "execution_count": 64,
   "metadata": {},
   "outputs": [
    {
     "data": {
      "text/html": [
       "<div>\n",
       "<style scoped>\n",
       "    .dataframe tbody tr th:only-of-type {\n",
       "        vertical-align: middle;\n",
       "    }\n",
       "\n",
       "    .dataframe tbody tr th {\n",
       "        vertical-align: top;\n",
       "    }\n",
       "\n",
       "    .dataframe thead th {\n",
       "        text-align: right;\n",
       "    }\n",
       "</style>\n",
       "<table border=\"1\" class=\"dataframe\">\n",
       "  <thead>\n",
       "    <tr style=\"text-align: right;\">\n",
       "      <th></th>\n",
       "      <th>survived</th>\n",
       "      <th>pclass</th>\n",
       "      <th>age</th>\n",
       "      <th>sibsp</th>\n",
       "      <th>parch</th>\n",
       "      <th>fare</th>\n",
       "      <th>adult_male</th>\n",
       "      <th>alone</th>\n",
       "    </tr>\n",
       "  </thead>\n",
       "  <tbody>\n",
       "    <tr>\n",
       "      <th>survived</th>\n",
       "      <td>1.000000</td>\n",
       "      <td>-0.323533</td>\n",
       "      <td>-0.043385</td>\n",
       "      <td>0.085915</td>\n",
       "      <td>0.133933</td>\n",
       "      <td>0.266229</td>\n",
       "      <td>-0.557080</td>\n",
       "      <td>-0.203367</td>\n",
       "    </tr>\n",
       "    <tr>\n",
       "      <th>pclass</th>\n",
       "      <td>-0.323533</td>\n",
       "      <td>1.000000</td>\n",
       "      <td>-0.286081</td>\n",
       "      <td>-0.039552</td>\n",
       "      <td>-0.021019</td>\n",
       "      <td>-0.573531</td>\n",
       "      <td>0.094632</td>\n",
       "      <td>0.129440</td>\n",
       "    </tr>\n",
       "    <tr>\n",
       "      <th>age</th>\n",
       "      <td>-0.043385</td>\n",
       "      <td>-0.286081</td>\n",
       "      <td>1.000000</td>\n",
       "      <td>-0.142746</td>\n",
       "      <td>-0.200112</td>\n",
       "      <td>0.093249</td>\n",
       "      <td>0.212646</td>\n",
       "      <td>0.138077</td>\n",
       "    </tr>\n",
       "    <tr>\n",
       "      <th>sibsp</th>\n",
       "      <td>0.085915</td>\n",
       "      <td>-0.039552</td>\n",
       "      <td>-0.142746</td>\n",
       "      <td>1.000000</td>\n",
       "      <td>0.425241</td>\n",
       "      <td>0.358262</td>\n",
       "      <td>-0.297677</td>\n",
       "      <td>-0.800592</td>\n",
       "    </tr>\n",
       "    <tr>\n",
       "      <th>parch</th>\n",
       "      <td>0.133933</td>\n",
       "      <td>-0.021019</td>\n",
       "      <td>-0.200112</td>\n",
       "      <td>0.425241</td>\n",
       "      <td>1.000000</td>\n",
       "      <td>0.330360</td>\n",
       "      <td>-0.384836</td>\n",
       "      <td>-0.662292</td>\n",
       "    </tr>\n",
       "    <tr>\n",
       "      <th>fare</th>\n",
       "      <td>0.266229</td>\n",
       "      <td>-0.573531</td>\n",
       "      <td>0.093249</td>\n",
       "      <td>0.358262</td>\n",
       "      <td>0.330360</td>\n",
       "      <td>1.000000</td>\n",
       "      <td>-0.254023</td>\n",
       "      <td>-0.437063</td>\n",
       "    </tr>\n",
       "    <tr>\n",
       "      <th>adult_male</th>\n",
       "      <td>-0.557080</td>\n",
       "      <td>0.094632</td>\n",
       "      <td>0.212646</td>\n",
       "      <td>-0.297677</td>\n",
       "      <td>-0.384836</td>\n",
       "      <td>-0.254023</td>\n",
       "      <td>1.000000</td>\n",
       "      <td>0.404744</td>\n",
       "    </tr>\n",
       "    <tr>\n",
       "      <th>alone</th>\n",
       "      <td>-0.203367</td>\n",
       "      <td>0.129440</td>\n",
       "      <td>0.138077</td>\n",
       "      <td>-0.800592</td>\n",
       "      <td>-0.662292</td>\n",
       "      <td>-0.437063</td>\n",
       "      <td>0.404744</td>\n",
       "      <td>1.000000</td>\n",
       "    </tr>\n",
       "  </tbody>\n",
       "</table>\n",
       "</div>"
      ],
      "text/plain": [
       "            survived    pclass       age     sibsp     parch      fare  \\\n",
       "survived    1.000000 -0.323533 -0.043385  0.085915  0.133933  0.266229   \n",
       "pclass     -0.323533  1.000000 -0.286081 -0.039552 -0.021019 -0.573531   \n",
       "age        -0.043385 -0.286081  1.000000 -0.142746 -0.200112  0.093249   \n",
       "sibsp       0.085915 -0.039552 -0.142746  1.000000  0.425241  0.358262   \n",
       "parch       0.133933 -0.021019 -0.200112  0.425241  1.000000  0.330360   \n",
       "fare        0.266229 -0.573531  0.093249  0.358262  0.330360  1.000000   \n",
       "adult_male -0.557080  0.094632  0.212646 -0.297677 -0.384836 -0.254023   \n",
       "alone      -0.203367  0.129440  0.138077 -0.800592 -0.662292 -0.437063   \n",
       "\n",
       "            adult_male     alone  \n",
       "survived     -0.557080 -0.203367  \n",
       "pclass        0.094632  0.129440  \n",
       "age           0.212646  0.138077  \n",
       "sibsp        -0.297677 -0.800592  \n",
       "parch        -0.384836 -0.662292  \n",
       "fare         -0.254023 -0.437063  \n",
       "adult_male    1.000000  0.404744  \n",
       "alone         0.404744  1.000000  "
      ]
     },
     "execution_count": 64,
     "metadata": {},
     "output_type": "execute_result"
    }
   ],
   "source": [
    "# Step 10: Check Correlation\n",
    "corr = df.corr(method='pearson') # you can also use spearman or kendall\n",
    "corr\n",
    "# df.corr() ---> this will show the correlation between all the variables\n"
   ]
  },
  {
   "cell_type": "code",
   "execution_count": 66,
   "metadata": {},
   "outputs": [
    {
     "data": {
      "text/plain": [
       "<AxesSubplot:>"
      ]
     },
     "execution_count": 66,
     "metadata": {},
     "output_type": "execute_result"
    },
    {
     "data": {
      "image/png": "[encoded data removed]",
      "text/plain": [
       "<Figure size 432x288 with 2 Axes>"
      ]
     },
     "metadata": {
      "needs_background": "light"
     },
     "output_type": "display_data"
    }
   ],
   "source": [
    "sns.heatmap(corr)\n"
   ]
  },
  {
   "cell_type": "code",
   "execution_count": 67,
   "metadata": {},
   "outputs": [
    {
     "data": {
      "text/plain": [
       "<AxesSubplot:>"
      ]
     },
     "execution_count": 67,
     "metadata": {},
     "output_type": "execute_result"
    },
    {
     "data": {
      "image/png": "[encoded data removed]",
      "text/plain": [
       "<Figure size 432x288 with 2 Axes>"
      ]
     },
     "metadata": {
      "needs_background": "light"
     },
     "output_type": "display_data"
    }
   ],
   "source": [
    "sns.heatmap(corr, annot=True)\n",
    "# this will show numbers with colors"
   ]
  },
  {
   "cell_type": "code",
   "execution_count": 69,
   "metadata": {},
   "outputs": [
    {
     "data": {
      "text/html": [
       "<style type=\"text/css\">\n",
       "#T_64fd4_row0_col0, #T_64fd4_row1_col1, #T_64fd4_row2_col2, #T_64fd4_row3_col3, #T_64fd4_row4_col4, #T_64fd4_row5_col5, #T_64fd4_row6_col6, #T_64fd4_row7_col7 {\n",
       "  background-color: #b40426;\n",
       "  color: #f1f1f1;\n",
       "}\n",
       "#T_64fd4_row0_col1 {\n",
       "  background-color: #6c8ff1;\n",
       "  color: #f1f1f1;\n",
       "}\n",
       "#T_64fd4_row0_col2 {\n",
       "  background-color: #779af7;\n",
       "  color: #f1f1f1;\n",
       "}\n",
       "#T_64fd4_row0_col3, #T_64fd4_row2_col6 {\n",
       "  background-color: #dbdcde;\n",
       "  color: #000000;\n",
       "}\n",
       "#T_64fd4_row0_col4 {\n",
       "  background-color: #d7dce3;\n",
       "  color: #000000;\n",
       "}\n",
       "#T_64fd4_row0_col5 {\n",
       "  background-color: #e5d8d1;\n",
       "  color: #000000;\n",
       "}\n",
       "#T_64fd4_row0_col6, #T_64fd4_row1_col2, #T_64fd4_row1_col5, #T_64fd4_row3_col7, #T_64fd4_row5_col1, #T_64fd4_row6_col0, #T_64fd4_row7_col3, #T_64fd4_row7_col4 {\n",
       "  background-color: #3b4cc0;\n",
       "  color: #f1f1f1;\n",
       "}\n",
       "#T_64fd4_row0_col7, #T_64fd4_row2_col0, #T_64fd4_row7_col2 {\n",
       "  background-color: #a9c6fd;\n",
       "  color: #000000;\n",
       "}\n",
       "#T_64fd4_row1_col0 {\n",
       "  background-color: #6a8bef;\n",
       "  color: #f1f1f1;\n",
       "}\n",
       "#T_64fd4_row1_col3, #T_64fd4_row2_col5, #T_64fd4_row6_col1 {\n",
       "  background-color: #c7d7f0;\n",
       "  color: #000000;\n",
       "}\n",
       "#T_64fd4_row1_col4 {\n",
       "  background-color: #bbd1f8;\n",
       "  color: #000000;\n",
       "}\n",
       "#T_64fd4_row1_col6 {\n",
       "  background-color: #c6d6f1;\n",
       "  color: #000000;\n",
       "}\n",
       "#T_64fd4_row1_col7 {\n",
       "  background-color: #e1dad6;\n",
       "  color: #000000;\n",
       "}\n",
       "#T_64fd4_row2_col1 {\n",
       "  background-color: #7597f6;\n",
       "  color: #f1f1f1;\n",
       "}\n",
       "#T_64fd4_row2_col3 {\n",
       "  background-color: #b5cdfa;\n",
       "  color: #000000;\n",
       "}\n",
       "#T_64fd4_row2_col4, #T_64fd4_row6_col3 {\n",
       "  background-color: #97b8ff;\n",
       "  color: #000000;\n",
       "}\n",
       "#T_64fd4_row2_col7 {\n",
       "  background-color: #e2dad5;\n",
       "  color: #000000;\n",
       "}\n",
       "#T_64fd4_row3_col0 {\n",
       "  background-color: #c4d5f3;\n",
       "  color: #000000;\n",
       "}\n",
       "#T_64fd4_row3_col1 {\n",
       "  background-color: #abc8fd;\n",
       "  color: #000000;\n",
       "}\n",
       "#T_64fd4_row3_col2, #T_64fd4_row4_col6 {\n",
       "  background-color: #5d7ce6;\n",
       "  color: #f1f1f1;\n",
       "}\n",
       "#T_64fd4_row3_col4 {\n",
       "  background-color: #f7bca1;\n",
       "  color: #000000;\n",
       "}\n",
       "#T_64fd4_row3_col5 {\n",
       "  background-color: #f1cdba;\n",
       "  color: #000000;\n",
       "}\n",
       "#T_64fd4_row3_col6, #T_64fd4_row6_col4 {\n",
       "  background-color: #6f92f3;\n",
       "  color: #f1f1f1;\n",
       "}\n",
       "#T_64fd4_row4_col0 {\n",
       "  background-color: #cdd9ec;\n",
       "  color: #000000;\n",
       "}\n",
       "#T_64fd4_row4_col1 {\n",
       "  background-color: #afcafc;\n",
       "  color: #000000;\n",
       "}\n",
       "#T_64fd4_row4_col2 {\n",
       "  background-color: #4f69d9;\n",
       "  color: #f1f1f1;\n",
       "}\n",
       "#T_64fd4_row4_col3 {\n",
       "  background-color: #f7b396;\n",
       "  color: #000000;\n",
       "}\n",
       "#T_64fd4_row4_col5 {\n",
       "  background-color: #eed0c0;\n",
       "  color: #000000;\n",
       "}\n",
       "#T_64fd4_row4_col7 {\n",
       "  background-color: #516ddb;\n",
       "  color: #f1f1f1;\n",
       "}\n",
       "#T_64fd4_row5_col0 {\n",
       "  background-color: #e4d9d2;\n",
       "  color: #000000;\n",
       "}\n",
       "#T_64fd4_row5_col2 {\n",
       "  background-color: #9dbdff;\n",
       "  color: #000000;\n",
       "}\n",
       "#T_64fd4_row5_col3 {\n",
       "  background-color: #f6bfa6;\n",
       "  color: #000000;\n",
       "}\n",
       "#T_64fd4_row5_col4 {\n",
       "  background-color: #f1ccb8;\n",
       "  color: #000000;\n",
       "}\n",
       "#T_64fd4_row5_col6 {\n",
       "  background-color: #799cf8;\n",
       "  color: #f1f1f1;\n",
       "}\n",
       "#T_64fd4_row5_col7, #T_64fd4_row6_col5 {\n",
       "  background-color: #7b9ff9;\n",
       "  color: #f1f1f1;\n",
       "}\n",
       "#T_64fd4_row6_col2 {\n",
       "  background-color: #bcd2f7;\n",
       "  color: #000000;\n",
       "}\n",
       "#T_64fd4_row6_col7 {\n",
       "  background-color: #f7b79b;\n",
       "  color: #000000;\n",
       "}\n",
       "#T_64fd4_row7_col0 {\n",
       "  background-color: #85a8fc;\n",
       "  color: #f1f1f1;\n",
       "}\n",
       "#T_64fd4_row7_col1 {\n",
       "  background-color: #cedaeb;\n",
       "  color: #000000;\n",
       "}\n",
       "#T_64fd4_row7_col5 {\n",
       "  background-color: #5572df;\n",
       "  color: #f1f1f1;\n",
       "}\n",
       "#T_64fd4_row7_col6 {\n",
       "  background-color: #f4c6af;\n",
       "  color: #000000;\n",
       "}\n",
       "</style>\n",
       "<table id=\"T_64fd4\">\n",
       "  <thead>\n",
       "    <tr>\n",
       "      <th class=\"blank level0\" >&nbsp;</th>\n",
       "      <th id=\"T_64fd4_level0_col0\" class=\"col_heading level0 col0\" >survived</th>\n",
       "      <th id=\"T_64fd4_level0_col1\" class=\"col_heading level0 col1\" >pclass</th>\n",
       "      <th id=\"T_64fd4_level0_col2\" class=\"col_heading level0 col2\" >age</th>\n",
       "      <th id=\"T_64fd4_level0_col3\" class=\"col_heading level0 col3\" >sibsp</th>\n",
       "      <th id=\"T_64fd4_level0_col4\" class=\"col_heading level0 col4\" >parch</th>\n",
       "      <th id=\"T_64fd4_level0_col5\" class=\"col_heading level0 col5\" >fare</th>\n",
       "      <th id=\"T_64fd4_level0_col6\" class=\"col_heading level0 col6\" >adult_male</th>\n",
       "      <th id=\"T_64fd4_level0_col7\" class=\"col_heading level0 col7\" >alone</th>\n",
       "    </tr>\n",
       "  </thead>\n",
       "  <tbody>\n",
       "    <tr>\n",
       "      <th id=\"T_64fd4_level0_row0\" class=\"row_heading level0 row0\" >survived</th>\n",
       "      <td id=\"T_64fd4_row0_col0\" class=\"data row0 col0\" >1.000000</td>\n",
       "      <td id=\"T_64fd4_row0_col1\" class=\"data row0 col1\" >-0.323533</td>\n",
       "      <td id=\"T_64fd4_row0_col2\" class=\"data row0 col2\" >-0.043385</td>\n",
       "      <td id=\"T_64fd4_row0_col3\" class=\"data row0 col3\" >0.085915</td>\n",
       "      <td id=\"T_64fd4_row0_col4\" class=\"data row0 col4\" >0.133933</td>\n",
       "      <td id=\"T_64fd4_row0_col5\" class=\"data row0 col5\" >0.266229</td>\n",
       "      <td id=\"T_64fd4_row0_col6\" class=\"data row0 col6\" >-0.557080</td>\n",
       "      <td id=\"T_64fd4_row0_col7\" class=\"data row0 col7\" >-0.203367</td>\n",
       "    </tr>\n",
       "    <tr>\n",
       "      <th id=\"T_64fd4_level0_row1\" class=\"row_heading level0 row1\" >pclass</th>\n",
       "      <td id=\"T_64fd4_row1_col0\" class=\"data row1 col0\" >-0.323533</td>\n",
       "      <td id=\"T_64fd4_row1_col1\" class=\"data row1 col1\" >1.000000</td>\n",
       "      <td id=\"T_64fd4_row1_col2\" class=\"data row1 col2\" >-0.286081</td>\n",
       "      <td id=\"T_64fd4_row1_col3\" class=\"data row1 col3\" >-0.039552</td>\n",
       "      <td id=\"T_64fd4_row1_col4\" class=\"data row1 col4\" >-0.021019</td>\n",
       "      <td id=\"T_64fd4_row1_col5\" class=\"data row1 col5\" >-0.573531</td>\n",
       "      <td id=\"T_64fd4_row1_col6\" class=\"data row1 col6\" >0.094632</td>\n",
       "      <td id=\"T_64fd4_row1_col7\" class=\"data row1 col7\" >0.129440</td>\n",
       "    </tr>\n",
       "    <tr>\n",
       "      <th id=\"T_64fd4_level0_row2\" class=\"row_heading level0 row2\" >age</th>\n",
       "      <td id=\"T_64fd4_row2_col0\" class=\"data row2 col0\" >-0.043385</td>\n",
       "      <td id=\"T_64fd4_row2_col1\" class=\"data row2 col1\" >-0.286081</td>\n",
       "      <td id=\"T_64fd4_row2_col2\" class=\"data row2 col2\" >1.000000</td>\n",
       "      <td id=\"T_64fd4_row2_col3\" class=\"data row2 col3\" >-0.142746</td>\n",
       "      <td id=\"T_64fd4_row2_col4\" class=\"data row2 col4\" >-0.200112</td>\n",
       "      <td id=\"T_64fd4_row2_col5\" class=\"data row2 col5\" >0.093249</td>\n",
       "      <td id=\"T_64fd4_row2_col6\" class=\"data row2 col6\" >0.212646</td>\n",
       "      <td id=\"T_64fd4_row2_col7\" class=\"data row2 col7\" >0.138077</td>\n",
       "    </tr>\n",
       "    <tr>\n",
       "      <th id=\"T_64fd4_level0_row3\" class=\"row_heading level0 row3\" >sibsp</th>\n",
       "      <td id=\"T_64fd4_row3_col0\" class=\"data row3 col0\" >0.085915</td>\n",
       "      <td id=\"T_64fd4_row3_col1\" class=\"data row3 col1\" >-0.039552</td>\n",
       "      <td id=\"T_64fd4_row3_col2\" class=\"data row3 col2\" >-0.142746</td>\n",
       "      <td id=\"T_64fd4_row3_col3\" class=\"data row3 col3\" >1.000000</td>\n",
       "      <td id=\"T_64fd4_row3_col4\" class=\"data row3 col4\" >0.425241</td>\n",
       "      <td id=\"T_64fd4_row3_col5\" class=\"data row3 col5\" >0.358262</td>\n",
       "      <td id=\"T_64fd4_row3_col6\" class=\"data row3 col6\" >-0.297677</td>\n",
       "      <td id=\"T_64fd4_row3_col7\" class=\"data row3 col7\" >-0.800592</td>\n",
       "    </tr>\n",
       "    <tr>\n",
       "      <th id=\"T_64fd4_level0_row4\" class=\"row_heading level0 row4\" >parch</th>\n",
       "      <td id=\"T_64fd4_row4_col0\" class=\"data row4 col0\" >0.133933</td>\n",
       "      <td id=\"T_64fd4_row4_col1\" class=\"data row4 col1\" >-0.021019</td>\n",
       "      <td id=\"T_64fd4_row4_col2\" class=\"data row4 col2\" >-0.200112</td>\n",
       "      <td id=\"T_64fd4_row4_col3\" class=\"data row4 col3\" >0.425241</td>\n",
       "      <td id=\"T_64fd4_row4_col4\" class=\"data row4 col4\" >1.000000</td>\n",
       "      <td id=\"T_64fd4_row4_col5\" class=\"data row4 col5\" >0.330360</td>\n",
       "      <td id=\"T_64fd4_row4_col6\" class=\"data row4 col6\" >-0.384836</td>\n",
       "      <td id=\"T_64fd4_row4_col7\" class=\"data row4 col7\" >-0.662292</td>\n",
       "    </tr>\n",
       "    <tr>\n",
       "      <th id=\"T_64fd4_level0_row5\" class=\"row_heading level0 row5\" >fare</th>\n",
       "      <td id=\"T_64fd4_row5_col0\" class=\"data row5 col0\" >0.266229</td>\n",
       "      <td id=\"T_64fd4_row5_col1\" class=\"data row5 col1\" >-0.573531</td>\n",
       "      <td id=\"T_64fd4_row5_col2\" class=\"data row5 col2\" >0.093249</td>\n",
       "      <td id=\"T_64fd4_row5_col3\" class=\"data row5 col3\" >0.358262</td>\n",
       "      <td id=\"T_64fd4_row5_col4\" class=\"data row5 col4\" >0.330360</td>\n",
       "      <td id=\"T_64fd4_row5_col5\" class=\"data row5 col5\" >1.000000</td>\n",
       "      <td id=\"T_64fd4_row5_col6\" class=\"data row5 col6\" >-0.254023</td>\n",
       "      <td id=\"T_64fd4_row5_col7\" class=\"data row5 col7\" >-0.437063</td>\n",
       "    </tr>\n",
       "    <tr>\n",
       "      <th id=\"T_64fd4_level0_row6\" class=\"row_heading level0 row6\" >adult_male</th>\n",
       "      <td id=\"T_64fd4_row6_col0\" class=\"data row6 col0\" >-0.557080</td>\n",
       "      <td id=\"T_64fd4_row6_col1\" class=\"data row6 col1\" >0.094632</td>\n",
       "      <td id=\"T_64fd4_row6_col2\" class=\"data row6 col2\" >0.212646</td>\n",
       "      <td id=\"T_64fd4_row6_col3\" class=\"data row6 col3\" >-0.297677</td>\n",
       "      <td id=\"T_64fd4_row6_col4\" class=\"data row6 col4\" >-0.384836</td>\n",
       "      <td id=\"T_64fd4_row6_col5\" class=\"data row6 col5\" >-0.254023</td>\n",
       "      <td id=\"T_64fd4_row6_col6\" class=\"data row6 col6\" >1.000000</td>\n",
       "      <td id=\"T_64fd4_row6_col7\" class=\"data row6 col7\" >0.404744</td>\n",
       "    </tr>\n",
       "    <tr>\n",
       "      <th id=\"T_64fd4_level0_row7\" class=\"row_heading level0 row7\" >alone</th>\n",
       "      <td id=\"T_64fd4_row7_col0\" class=\"data row7 col0\" >-0.203367</td>\n",
       "      <td id=\"T_64fd4_row7_col1\" class=\"data row7 col1\" >0.129440</td>\n",
       "      <td id=\"T_64fd4_row7_col2\" class=\"data row7 col2\" >0.138077</td>\n",
       "      <td id=\"T_64fd4_row7_col3\" class=\"data row7 col3\" >-0.800592</td>\n",
       "      <td id=\"T_64fd4_row7_col4\" class=\"data row7 col4\" >-0.662292</td>\n",
       "      <td id=\"T_64fd4_row7_col5\" class=\"data row7 col5\" >-0.437063</td>\n",
       "      <td id=\"T_64fd4_row7_col6\" class=\"data row7 col6\" >0.404744</td>\n",
       "      <td id=\"T_64fd4_row7_col7\" class=\"data row7 col7\" >1.000000</td>\n",
       "    </tr>\n",
       "  </tbody>\n",
       "</table>\n"
      ],
      "text/plain": [
       "<pandas.io.formats.style.Styler at 0x29589c27df0>"
      ]
     },
     "execution_count": 69,
     "metadata": {},
     "output_type": "execute_result"
    }
   ],
   "source": [
    "corr.style.background_gradient(cmap='coolwarm')"
   ]
  },
  {
   "cell_type": "code",
   "execution_count": 68,
   "metadata": {},
   "outputs": [
    {
     "data": {
      "text/plain": [
       "<seaborn.axisgrid.PairGrid at 0x29584f32500>"
      ]
     },
     "execution_count": 68,
     "metadata": {},
     "output_type": "execute_result"
    },
    {
     "data": {
      "image/png": "[encoded data removed]",
      "text/plain": [
       "<Figure size 1440x1440 with 72 Axes>"
      ]
     },
     "metadata": {
      "needs_background": "light"
     },
     "output_type": "display_data"
    }
   ],
   "source": [
    "sns.pairplot(corr)"
   ]
  }
 ],
 "metadata": {
  "kernelspec": {
   "display_name": "Python 3.10.4 ('pandas_env')",
   "language": "python",
   "name": "python3"
  },
  "language_info": {
   "codemirror_mode": {
    "name": "ipython",
    "version": 3
   },
   "file_extension": ".py",
   "mimetype": "text/x-python",
   "name": "python",
   "nbconvert_exporter": "python",
   "pygments_lexer": "ipython3",
   "version": "3.10.4"
  },
  "orig_nbformat": 4,
  "vscode": {
   "interpreter": {
    "hash": "b6d40e1a6136135b06ce405adc3a98b7c58668c8c7e51c477a7f33f420c028b6"
   }
  }
 },
 "nbformat": 4,
 "nbformat_minor": 2
}
