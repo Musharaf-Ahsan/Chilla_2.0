{
 "cells": [
  {
   "cell_type": "markdown",
   "id": "ff1cfcf2",
   "metadata": {},
   "source": [
    "# Python ka Chilla with Baba Ammar\n",
    "# Basics of Python\n",
    "## 01-  My 1st-Program"
   ]
  },
  {
   "cell_type": "code",
   "execution_count": 15,
   "id": "f853edec",
   "metadata": {},
   "outputs": [
    {
     "name": "stdout",
     "output_type": "stream",
     "text": [
      "I'm going to start python ka chilla with Baba Ammar\n",
      "I'm a student of Cholistan University of veterinary and Animal Sciences Bahawalpur\n"
     ]
    }
   ],
   "source": [
    "print(\"I'm going to start python ka chilla with Baba Ammar\")\n",
    "print(\"I'm a student of Cholistan University of veterinary and Animal Sciences Bahawalpur\")\n"
   ]
  },
  {
   "cell_type": "markdown",
   "id": "a39c03bf",
   "metadata": {},
   "source": [
    "## 02- Operators"
   ]
  },
  {
   "cell_type": "code",
   "execution_count": 16,
   "id": "90974edb",
   "metadata": {},
   "outputs": [
    {
     "name": "stdout",
     "output_type": "stream",
     "text": [
      "178\n",
      "46\n",
      "624\n",
      "45.0\n",
      "16\n",
      "8\n",
      "1\n",
      "151\n"
     ]
    }
   ],
   "source": [
    "print(90+88)            #Addition\n",
    "print(89-43)            #Substraction\n",
    "print(8*78)             #Multiplication\n",
    "print(90/2)             #Division\n",
    "print(64//4)            #Double Division\n",
    "print(2**3)             #Power\n",
    "print(9%2)              #Reminder\n",
    "print(68//4*9+8-10)     #Equation"
   ]
  },
  {
   "cell_type": "markdown",
   "id": "b1f96d80",
   "metadata": {},
   "source": [
    "***PEMDAS\n",
    "Parenthesis, Exponents, multiply, Divide, Addition & Substraction***\n",
    "\n",
    "***Left to right sequence for M D & A S***"
   ]
  },
  {
   "cell_type": "markdown",
   "id": "d058dfd7",
   "metadata": {},
   "source": [
    "## 03- Strings"
   ]
  },
  {
   "cell_type": "markdown",
   "id": "b0a65e6b",
   "metadata": {},
   "source": [
    "*we can write string in single qoutes(' '), in double qoiutes(\" \") and In tripple qoutes('''  ''')*"
   ]
  },
  {
   "cell_type": "code",
   "execution_count": 17,
   "id": "b8440264",
   "metadata": {},
   "outputs": [
    {
     "name": "stdout",
     "output_type": "stream",
     "text": [
      "Single Qoutes\n",
      "Double Qoutes\n",
      "Triple Qoutes\n"
     ]
    }
   ],
   "source": [
    "print('Single Qoutes')\n",
    "print(\"Double Qoutes\")\n",
    "print('''Triple Qoutes''')"
   ]
  },
  {
   "cell_type": "markdown",
   "id": "d2e6be39",
   "metadata": {},
   "source": [
    "*now what is the difference*"
   ]
  },
  {
   "cell_type": "code",
   "execution_count": 18,
   "id": "1f63896d",
   "metadata": {},
   "outputs": [
    {
     "name": "stdout",
     "output_type": "stream",
     "text": [
      "What's up\n"
     ]
    }
   ],
   "source": [
    "print(\"What's up\")"
   ]
  },
  {
   "cell_type": "markdown",
   "id": "352610fe",
   "metadata": {},
   "source": [
    "*agr hm ise single qoutes me likhainb gy to ye consider nhi kre ga*"
   ]
  },
  {
   "cell_type": "markdown",
   "id": "7268f193",
   "metadata": {},
   "source": [
    "## 04- Comments\n",
    "The shortcut keys to comments is **(Ctrl+/)** "
   ]
  },
  {
   "cell_type": "code",
   "execution_count": 19,
   "id": "2041ef40",
   "metadata": {},
   "outputs": [
    {
     "name": "stdout",
     "output_type": "stream",
     "text": [
      "How are you?\n"
     ]
    }
   ],
   "source": [
    "print(\"How are you?\")    #press these to comment out (Ctrl+/) or use (#) before statement."
   ]
  },
  {
   "cell_type": "markdown",
   "id": "127482a7",
   "metadata": {},
   "source": [
    "## 05- Variables\n",
    "*variables: objects containing specific values.*"
   ]
  },
  {
   "cell_type": "code",
   "execution_count": 20,
   "id": "5c98cbea",
   "metadata": {},
   "outputs": [
    {
     "name": "stdout",
     "output_type": "stream",
     "text": [
      "10\n",
      "Aj mera chotha Roza hai\n",
      "40\n",
      "50\n",
      "?\n"
     ]
    }
   ],
   "source": [
    "x=10    #Numeric or Integer Variable\n",
    "print(x)\n",
    "\n",
    "y=\"Aj mera chotha Roza hai\"    #string variable\n",
    "print(y)\n",
    "x=40   #Here the valuae of x is updating by 40.It works same for 'y'..Only happen in Python not in C/C++\n",
    "print(x)\n",
    "x=x+10      #Another way to update value of x....\n",
    "print(x)\n",
    "z='?'\n",
    "print(z)"
   ]
  },
  {
   "cell_type": "markdown",
   "id": "47389ba1",
   "metadata": {},
   "source": [
    "##### Types/Class of Variables.\n",
    "##### A Function to Check Types of Variables.\n"
   ]
  },
  {
   "cell_type": "code",
   "execution_count": 21,
   "id": "7d050523",
   "metadata": {},
   "outputs": [
    {
     "name": "stdout",
     "output_type": "stream",
     "text": [
      "<class 'int'>\n",
      "<class 'str'>\n",
      "<class 'str'>\n"
     ]
    }
   ],
   "source": [
    "type(x)\n",
    "print(type(x))\n",
    "type(y)\n",
    "print(type(y))\n",
    "type(z)\n",
    "print(type(z))"
   ]
  },
  {
   "cell_type": "markdown",
   "id": "535b1b18",
   "metadata": {},
   "source": [
    "### Rules to Assign a Variable\n",
    "***1. The variable should contain lettes, numbers or underscore..***\n",
    "\n",
    "***2. Do not start with numbers.***\n",
    "\n",
    "***3. Spaces are not allowed.***\n",
    "\n",
    "***4. Do not use keywords used in function like (break, mean ,media, test etc..)***\n",
    "\n",
    "***5. Short and discriptive***\n",
    "\n",
    "***6. case senstivity (lower case and upercase letter shoul be used)***\n"
   ]
  },
  {
   "cell_type": "code",
   "execution_count": 22,
   "id": "1e6a4bcf",
   "metadata": {},
   "outputs": [
    {
     "name": "stdout",
     "output_type": "stream",
     "text": [
      "mangoes\n",
      "<class 'str'>\n"
     ]
    }
   ],
   "source": [
    "fruit_basket=\"mangoes\"\n",
    "print(fruit_basket)\n",
    "print(type(fruit_basket))"
   ]
  },
  {
   "cell_type": "markdown",
   "id": "17712f24",
   "metadata": {},
   "source": [
    "## 06- Input Variables\n",
    "### Simple Input Function"
   ]
  },
  {
   "cell_type": "code",
   "execution_count": 23,
   "id": "0e260540",
   "metadata": {},
   "outputs": [
    {
     "name": "stdout",
     "output_type": "stream",
     "text": [
      "what is your favourite fruit?  Grapes\n",
      "Grapes\n"
     ]
    }
   ],
   "source": [
    "fruit_basket=input(\"what is your favourite fruit?  \")\n",
    "print(fruit_basket)"
   ]
  },
  {
   "cell_type": "markdown",
   "id": "9304a938",
   "metadata": {},
   "source": [
    "### Input Function of 2nd Stage"
   ]
  },
  {
   "cell_type": "code",
   "execution_count": 24,
   "id": "ebae2ec2",
   "metadata": {},
   "outputs": [
    {
     "name": "stdout",
     "output_type": "stream",
     "text": [
      "what is your name? Musharf\n",
      "Hello! Musharf\n"
     ]
    }
   ],
   "source": [
    "name=input(\"what is your name? \")\n",
    "greeting=\"Hello!\"\n",
    "print(greeting,name)"
   ]
  },
  {
   "cell_type": "markdown",
   "id": "90a42331",
   "metadata": {},
   "source": [
    "### Input Function of 3rd Stage"
   ]
  },
  {
   "cell_type": "code",
   "execution_count": 25,
   "id": "5a05c05b",
   "metadata": {},
   "outputs": [
    {
     "name": "stdout",
     "output_type": "stream",
     "text": [
      "what is your name? Ahsan\n",
      "<class 'str'>\n",
      "what is your age? 20\n",
      "Hello! Ahsan You are still young!\n"
     ]
    }
   ],
   "source": [
    "name=input(\"what is your name? \")\n",
    "name=str(name)      #In this line we are changing the data type of variable \n",
    "print(type(name))\n",
    "age=input(\"what is your age? \")\n",
    "greeting=\"Hello!\"\n",
    "print (greeting, name, \"You are still young!\")"
   ]
  },
  {
   "cell_type": "markdown",
   "id": "c7bc07b7",
   "metadata": {},
   "source": [
    "## 07- Conditional Logics\n",
    "**Logical Operators are \"TRUE/FALSE\", \"YES/NO\" or \"0/1\"**"
   ]
  },
  {
   "cell_type": "markdown",
   "id": "b0d954a4",
   "metadata": {},
   "source": [
    "***1. equal to                        ==***\n",
    "\n",
    "***2. not equal to                    !=***\n",
    "\n",
    "***3. less than                       <***\n",
    "\n",
    "***4. greater than                    >***\n",
    "\n",
    "***5. less than and equal to          <=***\n",
    "\n",
    "***6. greater than equal to           >=***"
   ]
  },
  {
   "cell_type": "markdown",
   "id": "c629c01e",
   "metadata": {},
   "source": [
    "## *is 4 equal to 4?*"
   ]
  },
  {
   "cell_type": "code",
   "execution_count": 26,
   "id": "d0100d41",
   "metadata": {},
   "outputs": [
    {
     "name": "stdout",
     "output_type": "stream",
     "text": [
      "True\n",
      "True\n",
      "True\n",
      "True\n",
      "True\n",
      "True\n"
     ]
    }
   ],
   "source": [
    "print(4==4)\n",
    "print(4!=9)\n",
    "print(4>3)\n",
    "print(3<6)\n",
    "print(3<=5)\n",
    "print(5>=4)"
   ]
  },
  {
   "cell_type": "markdown",
   "id": "6f929541",
   "metadata": {},
   "source": [
    "## Application of Logical Operators"
   ]
  },
  {
   "cell_type": "code",
   "execution_count": 27,
   "id": "af0eef6e",
   "metadata": {},
   "outputs": [
    {
     "name": "stdout",
     "output_type": "stream",
     "text": [
      "False\n"
     ]
    }
   ],
   "source": [
    "ali_age=4\n",
    "age_at_school=5\n",
    "print(ali_age==age_at_school)"
   ]
  },
  {
   "cell_type": "markdown",
   "id": "b08844bf",
   "metadata": {},
   "source": [
    "### Input Function and Logical Operator"
   ]
  },
  {
   "cell_type": "code",
   "execution_count": 28,
   "id": "7474d914",
   "metadata": {},
   "outputs": [
    {
     "name": "stdout",
     "output_type": "stream",
     "text": [
      "How old is student? 9\n",
      "<class 'int'>\n",
      "True\n"
     ]
    }
   ],
   "source": [
    "age_at_school=5\n",
    "student_age=input(\"How old is student? \")   #INPUT FUNCTION\n",
    "student_age=int(student_age)                #CONVERTING string INTO int DATA TYPE\n",
    "print (type(student_age))\n",
    "print(student_age>=age_at_school)           #LOGICAL OPERTAOR"
   ]
  },
  {
   "cell_type": "markdown",
   "id": "1ed6e742",
   "metadata": {},
   "source": [
    "## 08- Type Conversion"
   ]
  },
  {
   "cell_type": "code",
   "execution_count": 29,
   "id": "b351d570",
   "metadata": {},
   "outputs": [],
   "source": [
    "x=10        #intiger\n",
    "y=10.5      #float\n",
    "z=\"Hello\"   #string"
   ]
  },
  {
   "cell_type": "markdown",
   "id": "a42b98f2",
   "metadata": {},
   "source": [
    "### Imlicit Type Conversion"
   ]
  },
  {
   "cell_type": "code",
   "execution_count": 30,
   "id": "aead1596",
   "metadata": {},
   "outputs": [
    {
     "name": "stdout",
     "output_type": "stream",
     "text": [
      "20.5 Data type of x is  <class 'float'>\n"
     ]
    }
   ],
   "source": [
    "x=10\n",
    "y=10.5\n",
    "x=x+y\n",
    "print(x,\"Data type of x is \",type(x))"
   ]
  },
  {
   "cell_type": "markdown",
   "id": "4a685906",
   "metadata": {},
   "source": [
    "### Explicit Type Conversion"
   ]
  },
  {
   "cell_type": "code",
   "execution_count": 31,
   "id": "618d5ffc",
   "metadata": {},
   "outputs": [
    {
     "name": "stdout",
     "output_type": "stream",
     "text": [
      "What is your age? 20\n",
      "20 <class 'int'>\n",
      "what is your name? Musharaf\n",
      "Musharaf <class 'str'>\n"
     ]
    }
   ],
   "source": [
    "age=input(\"What is your age? \")\n",
    "# age=int(age)                      #1st method to convert data type \n",
    "print(age,type(int(age)))           #2nd method to convert data type\n",
    "name=input(\"what is your name? \")\n",
    "print(name,type(name))"
   ]
  },
  {
   "cell_type": "markdown",
   "id": "3abd6f54",
   "metadata": {},
   "source": [
    "## 09- if,else & elif"
   ]
  },
  {
   "cell_type": "code",
   "execution_count": 32,
   "id": "dcf5fe20",
   "metadata": {},
   "outputs": [
    {
     "name": "stdout",
     "output_type": "stream",
     "text": [
      "How old is student? 5\n",
      "Congrats sudent can join tha school.\n"
     ]
    }
   ],
   "source": [
    "student_age=input(\"How old is student? \")\n",
    "student_age=int(student_age)\n",
    "required_age_at_school=5\n",
    "if student_age==required_age_at_school:\n",
    "    print(\"Congrats sudent can join tha school.\")\n",
    "elif student_age > required_age_at_school:\n",
    "    print(\"student should join Higher secondary school.\")\n",
    "elif student_age <= 2:\n",
    "    print(\"you shoul take care of student he/she is a still baby\")\n",
    "else:\n",
    "    print(\"student can't join the school.\")"
   ]
  },
  {
   "cell_type": "markdown",
   "id": "6c4b9595",
   "metadata": {},
   "source": [
    "## 10- Functions\n",
    "print(\"We are learning python\")\n",
    "\n",
    "print(\"We are learning python\")\n",
    "\n",
    "print(\"We are learning python\")\n",
    "\n",
    "print(\"We are learning python\")\n",
    "\n",
    "print(\"We are learning python\")"
   ]
  },
  {
   "cell_type": "markdown",
   "id": "b7b4084c",
   "metadata": {},
   "source": [
    "### Defining a Function by diffrent ways\n",
    "### => 1"
   ]
  },
  {
   "cell_type": "code",
   "execution_count": 40,
   "id": "907b0bb4",
   "metadata": {},
   "outputs": [
    {
     "name": "stdout",
     "output_type": "stream",
     "text": [
      "We are learning python\n",
      "We are learning python\n",
      "We are learning python\n"
     ]
    }
   ],
   "source": [
    "def print_code():\n",
    "    print(\"We are learning python\")\n",
    "    print(\"We are learning python\")\n",
    "    print(\"We are learning python\")\n",
    "print_code()"
   ]
  },
  {
   "cell_type": "markdown",
   "id": "feb56508",
   "metadata": {},
   "source": [
    "### => 2"
   ]
  },
  {
   "cell_type": "code",
   "execution_count": 41,
   "id": "a9e82b8c",
   "metadata": {},
   "outputs": [
    {
     "name": "stdout",
     "output_type": "stream",
     "text": [
      "We are learning python with baba ammar on youtube \n",
      "We are learning python with baba ammar on youtube \n",
      "We are learning python with baba ammar on youtube \n"
     ]
    }
   ],
   "source": [
    "def print_code():\n",
    "    text=\"We are learning python with baba ammar on youtube \"\n",
    "    print(text)\n",
    "    print(text)\n",
    "    print(text)\n",
    "print_code()"
   ]
  },
  {
   "cell_type": "markdown",
   "id": "a482e294",
   "metadata": {},
   "source": [
    "### => 3"
   ]
  },
  {
   "cell_type": "code",
   "execution_count": 42,
   "id": "d3a1758f",
   "metadata": {},
   "outputs": [
    {
     "name": "stdout",
     "output_type": "stream",
     "text": [
      "we are learning python with baba ammar\n",
      "we are learning python with baba ammar\n",
      "we are learning python with baba ammar\n"
     ]
    }
   ],
   "source": [
    "def print_code(text):\n",
    "   \n",
    "    print(text)\n",
    "    print(text)\n",
    "    print(text)\n",
    "print_code(\"we are learning python with baba ammar\")"
   ]
  },
  {
   "cell_type": "markdown",
   "id": "3d2afb24",
   "metadata": {},
   "source": [
    "#### *Defining Function with if, elif and else statement*\n",
    "### => 4"
   ]
  },
  {
   "cell_type": "code",
   "execution_count": 43,
   "id": "76b36414",
   "metadata": {},
   "outputs": [
    {
     "name": "stdout",
     "output_type": "stream",
     "text": [
      "Student can join the school\n"
     ]
    }
   ],
   "source": [
    "def school_calculator(age):\n",
    "    if age==5:\n",
    "        print(\"Student can join the school\")\n",
    "    elif age>5:\n",
    "        print(\"student shoul go higher secondary school\")\n",
    "    else:\n",
    "        print(\"student is still a baby\")\n",
    "school_calculator(5)"
   ]
  },
  {
   "cell_type": "markdown",
   "id": "fa60591e",
   "metadata": {},
   "source": [
    "### => 5"
   ]
  },
  {
   "cell_type": "code",
   "execution_count": 44,
   "id": "9dbc7491",
   "metadata": {},
   "outputs": [
    {
     "name": "stdout",
     "output_type": "stream",
     "text": [
      "whta is the age of student? 10\n",
      "student shoul go higher secondary school\n"
     ]
    }
   ],
   "source": [
    "def school_calculator(age=input(\"whta is the age of student? \")):    #Input from User\n",
    "    age=int(age)\n",
    "    if age==5:\n",
    "        print(\"Student can join the school\")\n",
    "    elif age>5:\n",
    "        print(\"student shoul go higher secondary school\")\n",
    "    else:\n",
    "        print(\"student is still a baby\")\n",
    "school_calculator()"
   ]
  },
  {
   "cell_type": "markdown",
   "id": "e7b652df",
   "metadata": {},
   "source": [
    "### Defining a Function of Future"
   ]
  },
  {
   "cell_type": "code",
   "execution_count": 45,
   "id": "f2146e52",
   "metadata": {},
   "outputs": [
    {
     "name": "stdout",
     "output_type": "stream",
     "text": [
      "38\n"
     ]
    }
   ],
   "source": [
    "def future_age(age):\n",
    "    new_age=age+20\n",
    "    return new_age\n",
    "    print(new_age)\n",
    "futurre_prediction_age= future_age(18)\n",
    "print(futurre_prediction_age)"
   ]
  },
  {
   "cell_type": "markdown",
   "id": "27ec9efc",
   "metadata": {},
   "source": [
    "## 11- Loops\n",
    "### While Loop"
   ]
  },
  {
   "cell_type": "code",
   "execution_count": 46,
   "id": "cad3703c",
   "metadata": {},
   "outputs": [
    {
     "name": "stdout",
     "output_type": "stream",
     "text": [
      "0\n",
      "1\n",
      "2\n",
      "3\n",
      "4\n",
      "5\n",
      "6\n",
      "7\n",
      "8\n",
      "9\n",
      "10\n"
     ]
    }
   ],
   "source": [
    "x=0\n",
    "while (x<=10):\n",
    "    print(x)\n",
    "    x=x+1"
   ]
  },
  {
   "cell_type": "markdown",
   "id": "b09d1a7c",
   "metadata": {},
   "source": [
    "### For Loop"
   ]
  },
  {
   "cell_type": "code",
   "execution_count": 47,
   "id": "0030e638",
   "metadata": {},
   "outputs": [
    {
     "name": "stdout",
     "output_type": "stream",
     "text": [
      "0\n",
      "1\n",
      "2\n",
      "3\n",
      "4\n",
      "5\n",
      "6\n",
      "7\n",
      "8\n",
      "9\n"
     ]
    }
   ],
   "source": [
    "for x in range(0,10):\n",
    "    print(x)"
   ]
  },
  {
   "cell_type": "markdown",
   "id": "66c3fd26",
   "metadata": {},
   "source": [
    "### Array"
   ]
  },
  {
   "cell_type": "code",
   "execution_count": 48,
   "id": "667d41f4",
   "metadata": {},
   "outputs": [
    {
     "name": "stdout",
     "output_type": "stream",
     "text": [
      "mon\n",
      "tue\n",
      "wed\n",
      "thu\n",
      "sat\n",
      "sun\n"
     ]
    }
   ],
   "source": [
    "days=[\"mon\",\"tue\",\"wed\",\"thu\",\"fri\",\"sat\",\"sun\"]\n",
    "for d in days:\n",
    "    # if (d==\"fri\"):\n",
    "    #     break         #loop stops\n",
    "    if (d==\"fri\"):\n",
    "        continue        #skips d\n",
    "    print(d)"
   ]
  },
  {
   "cell_type": "markdown",
   "id": "f122da8b",
   "metadata": {},
   "source": [
    "## 12- Import Libraries\n",
    "***if you want to print the value of pi***"
   ]
  },
  {
   "cell_type": "code",
   "execution_count": 58,
   "id": "1f8c214e",
   "metadata": {},
   "outputs": [
    {
     "name": "stdout",
     "output_type": "stream",
     "text": [
      "The value of PI is  3.141592653589793\n"
     ]
    }
   ],
   "source": [
    "import math\n",
    "print(\"The value of PI is \",math.pi)"
   ]
  },
  {
   "cell_type": "markdown",
   "id": "f4956bb1",
   "metadata": {},
   "source": [
    "***We can also calculate Mode,Mean and many other values  using \"statistics\" library***"
   ]
  },
  {
   "cell_type": "code",
   "execution_count": 59,
   "id": "78977275",
   "metadata": {},
   "outputs": [
    {
     "name": "stdout",
     "output_type": "stream",
     "text": [
      "Mode of x is  345\n"
     ]
    }
   ],
   "source": [
    "import statistics\n",
    "x=[456,345,353,353,345,889]\n",
    "print(\"Mode of x is \",statistics.mode(x))"
   ]
  },
  {
   "cell_type": "markdown",
   "id": "90e840ce",
   "metadata": {},
   "source": [
    "***other important libraries are***\n",
    "\n",
    "*numpy, pandas etc*"
   ]
  },
  {
   "cell_type": "markdown",
   "id": "84d32489",
   "metadata": {},
   "source": [
    "## 13- Trouble "
   ]
  }
 ],
 "metadata": {
  "kernelspec": {
   "display_name": "Python 3 (ipykernel)",
   "language": "python",
   "name": "python3"
  },
  "language_info": {
   "codemirror_mode": {
    "name": "ipython",
    "version": 3
   },
   "file_extension": ".py",
   "mimetype": "text/x-python",
   "name": "python",
   "nbconvert_exporter": "python",
   "pygments_lexer": "ipython3",
   "version": "3.9.7"
  }
 },
 "nbformat": 4,
 "nbformat_minor": 5
}
