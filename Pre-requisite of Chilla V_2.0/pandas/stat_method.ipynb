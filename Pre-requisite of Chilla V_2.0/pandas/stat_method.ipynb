{
 "cells": [
  {
   "cell_type": "markdown",
   "metadata": {},
   "source": [
    "# **Sunmitted by: Musharaf Ahsan**"
   ]
  },
  {
   "cell_type": "markdown",
   "metadata": {},
   "source": [
    "## Parametric tests"
   ]
  },
  {
   "cell_type": "markdown",
   "metadata": {},
   "source": [
    "Parametric tests are those statistical tests that assume the data approximately follows a normal distribution,\\\n",
    " amongst other assumptions.The assumption is that the data of the whole population follows a normal distribution,\\\n",
    "  not the sample data that you’re working with."
   ]
  },
  {
   "cell_type": "markdown",
   "metadata": {},
   "source": [
    "## Nonparametric tests"
   ]
  },
  {
   "cell_type": "markdown",
   "metadata": {},
   "source": [
    "Nonparametric tests are those statistical tests that don’t assume anything about the distribution followed by\\\n",
    " the data, and hence are also known as distribution free tests (examples include Chi-square, Mann-Whitney U).\\\n",
    "  Nonparametric tests are based on the ranks held by different data points."
   ]
  },
  {
   "cell_type": "markdown",
   "metadata": {},
   "source": [
    "## Normality test"
   ]
  },
  {
   "cell_type": "markdown",
   "metadata": {},
   "source": [
    "Normality test refers to a specific statistical distribution called a normal distribution, or sometimes the \\\n",
    "Gaussian distribution or bell-shaped curve. The normal distribution is a symmetrical continuous distribution\\\n",
    " defined by the mean and standard deviation of the data. "
   ]
  },
  {
   "cell_type": "markdown",
   "metadata": {},
   "source": [
    "## Homogeneity"
   ]
  },
  {
   "cell_type": "markdown",
   "metadata": {},
   "source": [
    "This test determines if two or more populations (or subgroups of a population) have the same distribution \\\n",
    "of a single categorical variable. The test of homogeneity expands the test for a difference in two population\\\n",
    " proportions, which is the two-proportion Z-test we learned in Inference for Two Proportions."
   ]
  },
  {
   "cell_type": "markdown",
   "metadata": {},
   "source": [
    "## Statistical test"
   ]
  },
  {
   "cell_type": "markdown",
   "metadata": {},
   "source": [
    "A statistical test provides a mechanism for making quantitative decisions about a process or processes. \\\n",
    "The intent is to determine whether there is enough evidence to \"reject\" a conjecture or hypothesis about \\\n",
    "the process. The conjecture is called the null hypothesis."
   ]
  },
  {
   "cell_type": "markdown",
   "metadata": {},
   "source": [
    "## Chi-square test"
   ]
  },
  {
   "cell_type": "markdown",
   "metadata": {},
   "source": [
    "Chi-square test is a statistical test for categorical data. It is used to determine whether your data \\\n",
    "are significantly different from what you expected. There are two types of Pearson’s chi-square tests:\n",
    "\n",
    "The **chi-square goodness of fit test** is used to test whether the frequency distribution of a categorical\\\n",
    " variable is different from your expectations.\n",
    "The **chi-square test of independence** is used to test whether \\\n",
    "two categorical variables are related to each other"
   ]
  },
  {
   "cell_type": "markdown",
   "metadata": {},
   "source": [
    "## t-test"
   ]
  },
  {
   "cell_type": "markdown",
   "metadata": {},
   "source": [
    "A t-test is an inferential statistic used to determine if there is a significant difference between\\\n",
    " the means of two groups and how they are related. T-tests are used when the data sets follow a normal \\\n",
    " distribution and have unknown variances, like the data set recorded from flipping a coin 100 times"
   ]
  },
  {
   "cell_type": "markdown",
   "metadata": {},
   "source": [
    "## ANOVA (Analysis of Variance)"
   ]
  },
  {
   "cell_type": "markdown",
   "metadata": {},
   "source": [
    "ANOVA is a statistical technique that assesses potential differences in a scale-level dependent variable \\\n",
    "by a nominal-level variable having 2 or more categories."
   ]
  },
  {
   "cell_type": "markdown",
   "metadata": {},
   "source": [
    "## Analysis of covariance (ANCOVA)"
   ]
  },
  {
   "cell_type": "markdown",
   "metadata": {},
   "source": [
    "Analysis of variance and analysis of covariance are methods for evaluating studies in which the dependent\\\n",
    "variable is continuous. If the independent variables are all of the categorical type (nominal,\\\n",
    "dichotomous, or ordinal), ANOVA is used. If some of the independent variables are categoric and some are continuous,\\\n",
    " however,ANCOVA is appropriate."
   ]
  },
  {
   "cell_type": "markdown",
   "metadata": {},
   "source": [
    "## MANOVA\n",
    "Multivariate analysis of variance (MANOVA) is an extension of the univariate analysis of variance (ANOVA).\\\n",
    "  In an ANOVA, we examine for statistical differences on one continuous dependent variable by an independent\\\n",
    "  grouping variable.  The MANOVA extends this analysis by taking into account multiple continuous dependent \\\n",
    "  variables, and bundles them together into a weighted linear combination or composite variable."
   ]
  },
  {
   "cell_type": "markdown",
   "metadata": {},
   "source": [
    "## Correlation\n",
    "Correlation is a statistical measure that expresses the extent to which two variables are linearly related\\\n",
    "(meaning they change together at a constant rate). It’s a common tool for describing simple relationships\\\n",
    " without making a statement about cause and effect"
   ]
  },
  {
   "cell_type": "markdown",
   "metadata": {},
   "source": [
    "## Regression\n",
    "Regression is defined as a statistical method that helps us to analyze and understand the relationship \\\n",
    "between two or more variables of interest. The process that is adapted to perform regression analysis helps\\\n",
    " to understand which factors are important, which factors can be ignored, and how they are influencing each other."
   ]
  },
  {
   "cell_type": "markdown",
   "metadata": {},
   "source": [
    "## Independent Variable: \n",
    "An independent variable is exactly what it sounds like. It is a variable that stands alone and isn't changed\\\n",
    " by the other variables you are trying to measure. For example, someone's age might be an independent variable.\n",
    "## Dependent Variable:\n",
    "Dependent variable is the variable being tested and measured in an experiment, and is 'dependent' on the independent\\\n",
    " variable. An example of a dependent variable is depression symptoms, which depends on the independent variable "
   ]
  },
  {
   "cell_type": "markdown",
   "metadata": {},
   "source": []
  },
  {
   "cell_type": "markdown",
   "metadata": {},
   "source": []
  },
  {
   "cell_type": "markdown",
   "metadata": {},
   "source": []
  },
  {
   "cell_type": "markdown",
   "metadata": {},
   "source": []
  }
 ],
 "metadata": {
  "kernelspec": {
   "display_name": "Python 3.10.5 64-bit",
   "language": "python",
   "name": "python3"
  },
  "language_info": {
   "name": "python",
   "version": "3.10.5"
  },
  "orig_nbformat": 4,
  "vscode": {
   "interpreter": {
    "hash": "76d7c06053c3456e5600312cec90888656fc0ed30c03d8425b9dac6e4fc8e014"
   }
  }
 },
 "nbformat": 4,
 "nbformat_minor": 2
}
