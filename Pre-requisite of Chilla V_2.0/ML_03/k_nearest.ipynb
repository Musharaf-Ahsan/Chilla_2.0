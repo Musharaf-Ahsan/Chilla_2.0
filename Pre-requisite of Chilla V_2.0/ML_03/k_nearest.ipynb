{
 "cells": [
  {
   "cell_type": "code",
   "execution_count": 1,
   "metadata": {},
   "outputs": [],
   "source": [
    "# Import libraries and dataset\n",
    "import pandas as pd;\n",
    "df = pd.read_csv(\"mldata.csv\")\n",
    "df[\"genderr\"] = df[\"gender\"].replace(\"Male\", 1)\n",
    "df[\"genderr\"] = df[\"gender\"].replace(\"Female\", 0)\n"
   ]
  },
  {
   "cell_type": "code",
   "execution_count": 2,
   "metadata": {},
   "outputs": [],
   "source": [
    "#selection of input and output variables\n",
    "X = df[[\"weight\", \"gender\"]]\n",
    "y = df[\"likeness\"]"
   ]
  },
  {
   "cell_type": "code",
   "execution_count": null,
   "metadata": {},
   "outputs": [],
   "source": [
    "# model and predictio\n",
    "from sklearn.neighbors import KNeighborsClassifier\n",
    "model = KNeighborsClassifier(n_neighbors=5)\n",
    "\n",
    "model.fit(X, y)\n",
    "\n",
    "predicted = model.predict([[70, 1]])\n",
    "predicted"
   ]
  },
  {
   "cell_type": "code",
   "execution_count": null,
   "metadata": {},
   "outputs": [],
   "source": [
    "# matrices for evaluation\n",
    "# split data into test and trsin\n",
    "\n",
    "from sklearn.model_selection import train_test_split\n",
    "from sklearn.metrics import accuracy_score\n",
    "\n",
    "X_train, X_test, y_train, y_test = train_test_split(X, y, test_size=0.2)\n",
    "\n",
    "#create model\n",
    "\n",
    "model = KNeighborsClassifier()\n",
    "\n",
    "#fitting model\n",
    "model.fit(X_train, y_train)\n",
    "\n",
    "predicted_values = model.predict(X_test)\n",
    "predicted_values\n",
    "\n",
    "# Checking score\n",
    "\n",
    "score = accuracy_score(y_test, predicted_values)\n",
    "print(\"The accuracy score is: \", score)"
   ]
  }
 ],
 "metadata": {
  "kernelspec": {
   "display_name": "Python 3.10.4 ('pandas_env')",
   "language": "python",
   "name": "python3"
  },
  "language_info": {
   "codemirror_mode": {
    "name": "ipython",
    "version": 3
   },
   "file_extension": ".py",
   "mimetype": "text/x-python",
   "name": "python",
   "nbconvert_exporter": "python",
   "pygments_lexer": "ipython3",
   "version": "3.10.4"
  },
  "orig_nbformat": 4,
  "vscode": {
   "interpreter": {
    "hash": "b6d40e1a6136135b06ce405adc3a98b7c58668c8c7e51c477a7f33f420c028b6"
   }
  }
 },
 "nbformat": 4,
 "nbformat_minor": 2
}
