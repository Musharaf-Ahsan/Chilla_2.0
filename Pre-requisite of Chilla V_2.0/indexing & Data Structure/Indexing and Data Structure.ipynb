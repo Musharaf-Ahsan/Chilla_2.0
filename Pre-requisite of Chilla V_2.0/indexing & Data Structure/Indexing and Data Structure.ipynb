{
 "cells": [
  {
   "cell_type": "markdown",
   "id": "86dbe2e8",
   "metadata": {},
   "source": [
    "# Python ka Chilla Witha Dr.Ammar \n",
    "# Musharaf Ahsan \n",
    "# Indexing and Data Structure"
   ]
  },
  {
   "cell_type": "markdown",
   "id": "02d2eace",
   "metadata": {},
   "source": [
    "# - Indexing\n",
    "*Make a string*"
   ]
  },
  {
   "cell_type": "code",
   "execution_count": 1,
   "id": "631029bc",
   "metadata": {},
   "outputs": [
    {
     "data": {
      "text/plain": [
       "'Ladu Barfi'"
      ]
     },
     "execution_count": 1,
     "metadata": {},
     "output_type": "execute_result"
    }
   ],
   "source": [
    "a=\"Ladu Barfi\"\n",
    "a"
   ]
  },
  {
   "attachments": {
    "Capture.PNG": {
     "image/png": "[encoded data removed]"
    }
   },
   "cell_type": "markdown",
   "id": "17fad299",
   "metadata": {},
   "source": [
    "![Capture.PNG](attachment:Capture.PNG)"
   ]
  },
  {
   "cell_type": "code",
   "execution_count": 2,
   "id": "6d132d5b",
   "metadata": {},
   "outputs": [
    {
     "data": {
      "text/plain": [
       "'L'"
      ]
     },
     "execution_count": 2,
     "metadata": {},
     "output_type": "execute_result"
    }
   ],
   "source": [
    "a[0]"
   ]
  },
  {
   "cell_type": "code",
   "execution_count": 3,
   "id": "fc9ca914",
   "metadata": {},
   "outputs": [
    {
     "data": {
      "text/plain": [
       "'a'"
      ]
     },
     "execution_count": 3,
     "metadata": {},
     "output_type": "execute_result"
    }
   ],
   "source": [
    "a[6]"
   ]
  },
  {
   "cell_type": "code",
   "execution_count": 4,
   "id": "b7ce1964",
   "metadata": {},
   "outputs": [
    {
     "data": {
      "text/plain": [
       "'i'"
      ]
     },
     "execution_count": 4,
     "metadata": {},
     "output_type": "execute_result"
    }
   ],
   "source": [
    "a[9]"
   ]
  },
  {
   "cell_type": "markdown",
   "id": "55cd9520",
   "metadata": {},
   "source": [
    "*Length of indces*"
   ]
  },
  {
   "cell_type": "code",
   "execution_count": 5,
   "id": "61fb384d",
   "metadata": {},
   "outputs": [
    {
     "data": {
      "text/plain": [
       "10"
      ]
     },
     "execution_count": 5,
     "metadata": {},
     "output_type": "execute_result"
    }
   ],
   "source": [
    "len(a)"
   ]
  },
  {
   "cell_type": "code",
   "execution_count": 6,
   "id": "78e31466",
   "metadata": {},
   "outputs": [
    {
     "data": {
      "text/plain": [
       "'i'"
      ]
     },
     "execution_count": 6,
     "metadata": {},
     "output_type": "execute_result"
    }
   ],
   "source": [
    "a[9]"
   ]
  },
  {
   "cell_type": "code",
   "execution_count": 7,
   "id": "83cd4799",
   "metadata": {},
   "outputs": [
    {
     "data": {
      "text/plain": [
       "'Lad'"
      ]
     },
     "execution_count": 7,
     "metadata": {},
     "output_type": "execute_result"
    }
   ],
   "source": [
    "a[0:3] #It mean 0 to 3"
   ]
  },
  {
   "cell_type": "code",
   "execution_count": 8,
   "id": "c0261b48",
   "metadata": {},
   "outputs": [
    {
     "data": {
      "text/plain": [
       "'Ladu'"
      ]
     },
     "execution_count": 8,
     "metadata": {},
     "output_type": "execute_result"
    }
   ],
   "source": [
    "a[0:4]"
   ]
  },
  {
   "cell_type": "markdown",
   "id": "c137886b",
   "metadata": {},
   "source": [
    "*The lats index is exclusive means if we want to print ***\"Ladu\"*** having 4 chracteres  with indeces from ***0 to 3*** then we have to write in code ***0 to 4(0:4)*** because the last index is not going to print.*\n",
    "*As we see above the output of  ***a[0:3]*** is \"Lad\" not \"Ladu\".*"
   ]
  },
  {
   "cell_type": "markdown",
   "id": "58194b7c",
   "metadata": {},
   "source": [
    "### Negative Indexing\n",
    "***Negative indexing start  from the end of string as shown in the image below.***"
   ]
  },
  {
   "attachments": {
    "Capture-2.PNG": {
     "image/png": "[encoded data removed]"
    }
   },
   "cell_type": "markdown",
   "id": "b8efd57f",
   "metadata": {},
   "source": [
    "![Capture-2.PNG](attachment:Capture-2.PNG)"
   ]
  },
  {
   "cell_type": "code",
   "execution_count": 9,
   "id": "abe0a36b",
   "metadata": {},
   "outputs": [
    {
     "data": {
      "text/plain": [
       "'i'"
      ]
     },
     "execution_count": 9,
     "metadata": {},
     "output_type": "execute_result"
    }
   ],
   "source": [
    "a[-1]"
   ]
  },
  {
   "cell_type": "code",
   "execution_count": 10,
   "id": "64d85e58",
   "metadata": {},
   "outputs": [
    {
     "data": {
      "text/plain": [
       "'u'"
      ]
     },
     "execution_count": 10,
     "metadata": {},
     "output_type": "execute_result"
    }
   ],
   "source": [
    "a[-7]"
   ]
  },
  {
   "cell_type": "code",
   "execution_count": 11,
   "id": "7bbad06c",
   "metadata": {},
   "outputs": [
    {
     "data": {
      "text/plain": [
       "'L'"
      ]
     },
     "execution_count": 11,
     "metadata": {},
     "output_type": "execute_result"
    }
   ],
   "source": [
    "a[-10]"
   ]
  },
  {
   "cell_type": "markdown",
   "id": "fca2c794",
   "metadata": {},
   "source": [
    "***Now if we want to print Barfi by using negative indexing then we we'll do that as follow.***"
   ]
  },
  {
   "cell_type": "code",
   "execution_count": 12,
   "id": "d5c4e58b",
   "metadata": {},
   "outputs": [
    {
     "data": {
      "text/plain": [
       "' Barf'"
      ]
     },
     "execution_count": 12,
     "metadata": {},
     "output_type": "execute_result"
    }
   ],
   "source": [
    "a[-6:-1] #last index is exlusive"
   ]
  },
  {
   "cell_type": "code",
   "execution_count": 13,
   "id": "d40d2d98",
   "metadata": {},
   "outputs": [
    {
     "data": {
      "text/plain": [
       "'Barfi'"
      ]
     },
     "execution_count": 13,
     "metadata": {},
     "output_type": "execute_result"
    }
   ],
   "source": [
    "a[-5:10]"
   ]
  },
  {
   "cell_type": "markdown",
   "id": "410d8c1f",
   "metadata": {},
   "source": [
    "## -String Methods"
   ]
  },
  {
   "cell_type": "code",
   "execution_count": 14,
   "id": "94567108",
   "metadata": {},
   "outputs": [
    {
     "data": {
      "text/plain": [
       "'biryani'"
      ]
     },
     "execution_count": 14,
     "metadata": {},
     "output_type": "execute_result"
    }
   ],
   "source": [
    "food=\"biryani\"\n",
    "food"
   ]
  },
  {
   "cell_type": "markdown",
   "id": "cdf6b3e2",
   "metadata": {},
   "source": [
    "**Capitalize every Element**"
   ]
  },
  {
   "cell_type": "code",
   "execution_count": 15,
   "id": "d3da250a",
   "metadata": {
    "scrolled": true
   },
   "outputs": [
    {
     "data": {
      "text/plain": [
       "'Biryani'"
      ]
     },
     "execution_count": 15,
     "metadata": {},
     "output_type": "execute_result"
    }
   ],
   "source": [
    "food.capitalize()"
   ]
  },
  {
   "cell_type": "markdown",
   "id": "5730193a",
   "metadata": {},
   "source": [
    "**Uppercase Letters**"
   ]
  },
  {
   "cell_type": "code",
   "execution_count": 16,
   "id": "3ecc1338",
   "metadata": {},
   "outputs": [
    {
     "data": {
      "text/plain": [
       "'BIRYANI'"
      ]
     },
     "execution_count": 16,
     "metadata": {},
     "output_type": "execute_result"
    }
   ],
   "source": [
    "food.upper()"
   ]
  },
  {
   "cell_type": "markdown",
   "id": "02c7e520",
   "metadata": {},
   "source": [
    "**Lowercase Letters**"
   ]
  },
  {
   "cell_type": "code",
   "execution_count": 17,
   "id": "53f068e1",
   "metadata": {},
   "outputs": [
    {
     "data": {
      "text/plain": [
       "'biryani'"
      ]
     },
     "execution_count": 17,
     "metadata": {},
     "output_type": "execute_result"
    }
   ],
   "source": [
    "food.lower()"
   ]
  },
  {
   "cell_type": "markdown",
   "id": "51b836a2",
   "metadata": {},
   "source": [
    "**Replacement of Letters in a string**"
   ]
  },
  {
   "cell_type": "code",
   "execution_count": 18,
   "id": "904f24cd",
   "metadata": {},
   "outputs": [
    {
     "data": {
      "text/plain": [
       "'Shiryani'"
      ]
     },
     "execution_count": 18,
     "metadata": {},
     "output_type": "execute_result"
    }
   ],
   "source": [
    "food.replace('b','Sh')"
   ]
  },
  {
   "cell_type": "markdown",
   "id": "49e5f454",
   "metadata": {},
   "source": [
    "**Count a Spacific letter in a String**"
   ]
  },
  {
   "cell_type": "code",
   "execution_count": 19,
   "id": "cb84ae8e",
   "metadata": {},
   "outputs": [
    {
     "data": {
      "text/plain": [
       "'Muhammad Musharaf Ahsan'"
      ]
     },
     "execution_count": 19,
     "metadata": {},
     "output_type": "execute_result"
    }
   ],
   "source": [
    "name=\"Muhammad Musharaf Ahsan\"\n",
    "name"
   ]
  },
  {
   "cell_type": "code",
   "execution_count": 20,
   "id": "812cf547",
   "metadata": {},
   "outputs": [
    {
     "data": {
      "text/plain": [
       "2"
      ]
     },
     "execution_count": 20,
     "metadata": {},
     "output_type": "execute_result"
    }
   ],
   "source": [
    "name.count(\"M\")"
   ]
  },
  {
   "cell_type": "markdown",
   "id": "c7a84cd9",
   "metadata": {},
   "source": [
    "**Finding an index number of sprific letter in a string**"
   ]
  },
  {
   "cell_type": "code",
   "execution_count": 21,
   "id": "c562916c",
   "metadata": {},
   "outputs": [
    {
     "data": {
      "text/plain": [
       "1"
      ]
     },
     "execution_count": 21,
     "metadata": {},
     "output_type": "execute_result"
    }
   ],
   "source": [
    "name.find(\"u\")"
   ]
  },
  {
   "cell_type": "code",
   "execution_count": 22,
   "id": "d47aa3aa",
   "metadata": {},
   "outputs": [
    {
     "data": {
      "text/plain": [
       "4"
      ]
     },
     "execution_count": 22,
     "metadata": {},
     "output_type": "execute_result"
    }
   ],
   "source": [
    "name.find(\"mm\")"
   ]
  },
  {
   "cell_type": "code",
   "execution_count": null,
   "id": "56e6c005",
   "metadata": {},
   "outputs": [],
   "source": []
  },
  {
   "cell_type": "code",
   "execution_count": 143,
   "id": "a8fd9703",
   "metadata": {
    "scrolled": true
   },
   "outputs": [
    {
     "data": {
      "text/plain": [
       "4"
      ]
     },
     "execution_count": 143,
     "metadata": {},
     "output_type": "execute_result"
    }
   ],
   "source": [
    "name.find(\"m\") #if there are more combinations of required alphabet then\n",
    "               #it shows the index which come first in sequence"
   ]
  },
  {
   "cell_type": "code",
   "execution_count": 24,
   "id": "d0bc6417",
   "metadata": {},
   "outputs": [
    {
     "data": {
      "text/plain": [
       "18"
      ]
     },
     "execution_count": 24,
     "metadata": {},
     "output_type": "execute_result"
    }
   ],
   "source": [
    "name.find(\"Ahsan\")"
   ]
  },
  {
   "cell_type": "markdown",
   "id": "ff296106",
   "metadata": {},
   "source": [
    "**How to Split a String**"
   ]
  },
  {
   "cell_type": "code",
   "execution_count": 25,
   "id": "9b3174da",
   "metadata": {},
   "outputs": [
    {
     "data": {
      "text/plain": [
       "'I love smosa pakora raita salad and qorma'"
      ]
     },
     "execution_count": 25,
     "metadata": {},
     "output_type": "execute_result"
    }
   ],
   "source": [
    "khana = \"I love smosa pakora raita salad and qorma\"\n",
    "khana"
   ]
  },
  {
   "cell_type": "code",
   "execution_count": 26,
   "id": "ac488366",
   "metadata": {},
   "outputs": [
    {
     "data": {
      "text/plain": [
       "['I', 'love', 'smosa', 'pakora', 'raita', 'salad', 'and', 'qorma']"
      ]
     },
     "execution_count": 26,
     "metadata": {},
     "output_type": "execute_result"
    }
   ],
   "source": [
    "khana.split(\" \")                #Split string on the basis of space (\" \")."
   ]
  },
  {
   "cell_type": "code",
   "execution_count": 27,
   "id": "55982162",
   "metadata": {},
   "outputs": [
    {
     "data": {
      "text/plain": [
       "'I love smosa, pakora, raita, salad and qorma'"
      ]
     },
     "execution_count": 27,
     "metadata": {},
     "output_type": "execute_result"
    }
   ],
   "source": [
    "khana2=\"I love smosa, pakora, raita, salad and qorma\"\n",
    "khana2"
   ]
  },
  {
   "cell_type": "code",
   "execution_count": 28,
   "id": "8a21b5e2",
   "metadata": {},
   "outputs": [
    {
     "data": {
      "text/plain": [
       "['I love smosa', ' pakora', ' raita', ' salad and qorma']"
      ]
     },
     "execution_count": 28,
     "metadata": {},
     "output_type": "execute_result"
    }
   ],
   "source": [
    "khana2.split(\",\")                #Split string on the basis of comma (\",\")."
   ]
  },
  {
   "cell_type": "markdown",
   "id": "7be957dd",
   "metadata": {},
   "source": [
    "# - Basic Data Structure in Python\n",
    "**1-Tuple**\n",
    "\n",
    "**2-List**\n",
    "\n",
    "**3-Dictionaries**\n",
    "\n",
    "**4-Set**"
   ]
  },
  {
   "cell_type": "markdown",
   "id": "992fbb31",
   "metadata": {},
   "source": [
    "## 1-Tuple\n",
    "- Ordered colllection of Elements\n",
    "- Enclosed in Parnthesis()\n",
    "- Diffrent kind of elements can be stored\n",
    "- Once elements are stored you can not change them(immutable)"
   ]
  },
  {
   "cell_type": "code",
   "execution_count": 29,
   "id": "341d91e0",
   "metadata": {},
   "outputs": [
    {
     "data": {
      "text/plain": [
       "(90, 'python', True, 3.5)"
      ]
     },
     "execution_count": 29,
     "metadata": {},
     "output_type": "execute_result"
    }
   ],
   "source": [
    "tup1=(90, \"python\", True, 3.5)\n",
    "tup1"
   ]
  },
  {
   "cell_type": "code",
   "execution_count": 30,
   "id": "503c0255",
   "metadata": {},
   "outputs": [
    {
     "data": {
      "text/plain": [
       "tuple"
      ]
     },
     "execution_count": 30,
     "metadata": {},
     "output_type": "execute_result"
    }
   ],
   "source": [
    "#Data type of a Typle\n",
    "type(tup1)"
   ]
  },
  {
   "cell_type": "markdown",
   "id": "6644048d",
   "metadata": {},
   "source": [
    "---"
   ]
  },
  {
   "cell_type": "markdown",
   "id": "64d2c950",
   "metadata": {},
   "source": [
    "### -Indexing in Tuple"
   ]
  },
  {
   "cell_type": "code",
   "execution_count": 31,
   "id": "83a1d759",
   "metadata": {},
   "outputs": [
    {
     "data": {
      "text/plain": [
       "90"
      ]
     },
     "execution_count": 31,
     "metadata": {},
     "output_type": "execute_result"
    }
   ],
   "source": [
    "tup1[0]"
   ]
  },
  {
   "cell_type": "code",
   "execution_count": 32,
   "id": "80842ea0",
   "metadata": {},
   "outputs": [
    {
     "data": {
      "text/plain": [
       "'python'"
      ]
     },
     "execution_count": 32,
     "metadata": {},
     "output_type": "execute_result"
    }
   ],
   "source": [
    "tup1[1]"
   ]
  },
  {
   "cell_type": "code",
   "execution_count": 33,
   "id": "4cc1dc12",
   "metadata": {},
   "outputs": [
    {
     "data": {
      "text/plain": [
       "(90, 'python', True)"
      ]
     },
     "execution_count": 33,
     "metadata": {},
     "output_type": "execute_result"
    }
   ],
   "source": [
    "# We know that the last element is exclusive\n",
    "tup1[0:3]"
   ]
  },
  {
   "cell_type": "code",
   "execution_count": 34,
   "id": "d542d500",
   "metadata": {},
   "outputs": [
    {
     "data": {
      "text/plain": [
       "4"
      ]
     },
     "execution_count": 34,
     "metadata": {},
     "output_type": "execute_result"
    }
   ],
   "source": [
    "#Length of a tuple or count total elements is a tuple\n",
    "len(tup1)"
   ]
  },
  {
   "cell_type": "code",
   "execution_count": 35,
   "id": "6d0e58f2",
   "metadata": {},
   "outputs": [
    {
     "data": {
      "text/plain": [
       "(4, 'Ahsan', 9.4, False)"
      ]
     },
     "execution_count": 35,
     "metadata": {},
     "output_type": "execute_result"
    }
   ],
   "source": [
    "tup2=(4,\"Ahsan\", 9.4, False)\n",
    "tup2"
   ]
  },
  {
   "cell_type": "code",
   "execution_count": 36,
   "id": "9ce1b67e",
   "metadata": {},
   "outputs": [
    {
     "data": {
      "text/plain": [
       "(90, 'python', True, 3.5, 4, 'Ahsan', 9.4, False)"
      ]
     },
     "execution_count": 36,
     "metadata": {},
     "output_type": "execute_result"
    }
   ],
   "source": [
    "#Concatinate (to add two tuple or >2)\n",
    "tup1+tup2"
   ]
  },
  {
   "cell_type": "code",
   "execution_count": 37,
   "id": "b1b93a10",
   "metadata": {},
   "outputs": [
    {
     "data": {
      "text/plain": [
       "(90, 'python', True, 3.5, 90, 'python', True, 3.5, 4, 'Ahsan', 9.4, False)"
      ]
     },
     "execution_count": 37,
     "metadata": {},
     "output_type": "execute_result"
    }
   ],
   "source": [
    "#Concatinate + repeat\n",
    "tup1*2+tup2"
   ]
  },
  {
   "cell_type": "code",
   "execution_count": 38,
   "id": "453b551d",
   "metadata": {},
   "outputs": [
    {
     "data": {
      "text/plain": [
       "(32, 42, 44, 67, 78, 88, 90, 10)"
      ]
     },
     "execution_count": 38,
     "metadata": {},
     "output_type": "execute_result"
    }
   ],
   "source": [
    "tup3 =(32,42,44,67,78,88,90,10)\n",
    "tup3"
   ]
  },
  {
   "cell_type": "code",
   "execution_count": 39,
   "id": "162b7e77",
   "metadata": {},
   "outputs": [
    {
     "data": {
      "text/plain": [
       "10"
      ]
     },
     "execution_count": 39,
     "metadata": {},
     "output_type": "execute_result"
    }
   ],
   "source": [
    "min(tup3)"
   ]
  },
  {
   "cell_type": "code",
   "execution_count": 40,
   "id": "4ce2c59b",
   "metadata": {},
   "outputs": [
    {
     "data": {
      "text/plain": [
       "90"
      ]
     },
     "execution_count": 40,
     "metadata": {},
     "output_type": "execute_result"
    }
   ],
   "source": [
    "max(tup3)"
   ]
  },
  {
   "cell_type": "code",
   "execution_count": 41,
   "id": "7cd6be3d",
   "metadata": {},
   "outputs": [
    {
     "data": {
      "text/plain": [
       "(32, 42, 44, 67, 78, 88, 90, 10, 32, 42, 44, 67, 78, 88, 90, 10)"
      ]
     },
     "execution_count": 41,
     "metadata": {},
     "output_type": "execute_result"
    }
   ],
   "source": [
    "tup3*2 # with this method we can repeat the values of tuple not multiply like 2*2=4."
   ]
  },
  {
   "cell_type": "markdown",
   "id": "040e703f",
   "metadata": {},
   "source": [
    "## Other Functions Tuple"
   ]
  },
  {
   "cell_type": "markdown",
   "id": "8ba9d780",
   "metadata": {},
   "source": [
    "### 1- count"
   ]
  },
  {
   "cell_type": "code",
   "execution_count": 42,
   "id": "7d89a504",
   "metadata": {},
   "outputs": [
    {
     "data": {
      "text/plain": [
       "1"
      ]
     },
     "execution_count": 42,
     "metadata": {},
     "output_type": "execute_result"
    }
   ],
   "source": [
    "tup3.count(44)"
   ]
  },
  {
   "cell_type": "markdown",
   "id": "e37e7c4f",
   "metadata": {},
   "source": [
    "### 2- index"
   ]
  },
  {
   "cell_type": "code",
   "execution_count": 43,
   "id": "d0ccc75b",
   "metadata": {},
   "outputs": [
    {
     "data": {
      "text/plain": [
       "4"
      ]
     },
     "execution_count": 43,
     "metadata": {},
     "output_type": "execute_result"
    }
   ],
   "source": [
    "tup3.index(78)"
   ]
  },
  {
   "cell_type": "markdown",
   "id": "d7c3f73e",
   "metadata": {},
   "source": [
    "---"
   ]
  },
  {
   "cell_type": "markdown",
   "id": "5d086eec",
   "metadata": {},
   "source": [
    "## 2-Lists\n",
    "- Ordered collection of elements\n",
    "- Enclosed in [ ] squar brackets\n",
    "- Mutable (you can change the values)"
   ]
  },
  {
   "cell_type": "code",
   "execution_count": 44,
   "id": "132ffa8e",
   "metadata": {},
   "outputs": [
    {
     "data": {
      "text/plain": [
       "[4, 'Motu Patlu', 8.4, True]"
      ]
     },
     "execution_count": 44,
     "metadata": {},
     "output_type": "execute_result"
    }
   ],
   "source": [
    "list1=[4, \"Motu Patlu\", 8.4, True]\n",
    "list1"
   ]
  },
  {
   "cell_type": "code",
   "execution_count": 45,
   "id": "09bf4eef",
   "metadata": {},
   "outputs": [
    {
     "data": {
      "text/plain": [
       "list"
      ]
     },
     "execution_count": 45,
     "metadata": {},
     "output_type": "execute_result"
    }
   ],
   "source": [
    "type(list1)"
   ]
  },
  {
   "cell_type": "code",
   "execution_count": 46,
   "id": "e82d4bc4",
   "metadata": {},
   "outputs": [
    {
     "data": {
      "text/plain": [
       "4"
      ]
     },
     "execution_count": 46,
     "metadata": {},
     "output_type": "execute_result"
    }
   ],
   "source": [
    "len(list1)"
   ]
  },
  {
   "cell_type": "code",
   "execution_count": 47,
   "id": "7aeaa7b0",
   "metadata": {},
   "outputs": [
    {
     "data": {
      "text/plain": [
       "True"
      ]
     },
     "execution_count": 47,
     "metadata": {},
     "output_type": "execute_result"
    }
   ],
   "source": [
    "list1[3]"
   ]
  },
  {
   "cell_type": "code",
   "execution_count": 48,
   "id": "f976c519",
   "metadata": {},
   "outputs": [
    {
     "data": {
      "text/plain": [
       "[4, 'Motu Patlu', 8.4, True, 4, 'Motu Patlu', 8.4, True]"
      ]
     },
     "execution_count": 48,
     "metadata": {},
     "output_type": "execute_result"
    }
   ],
   "source": [
    "list1*2"
   ]
  },
  {
   "cell_type": "code",
   "execution_count": 49,
   "id": "f01b0ebd",
   "metadata": {},
   "outputs": [
    {
     "data": {
      "text/plain": [
       "[65, 'I love Pakistan', 'Musharaf Ahsan', 887, 9.5, False]"
      ]
     },
     "execution_count": 49,
     "metadata": {},
     "output_type": "execute_result"
    }
   ],
   "source": [
    "list2=[65, \"I love Pakistan\", \"Musharaf Ahsan\", 887, 9.5, False]\n",
    "list2"
   ]
  },
  {
   "cell_type": "code",
   "execution_count": 50,
   "id": "494c5a77",
   "metadata": {},
   "outputs": [
    {
     "data": {
      "text/plain": [
       "[4,\n",
       " 'Motu Patlu',\n",
       " 8.4,\n",
       " True,\n",
       " 65,\n",
       " 'I love Pakistan',\n",
       " 'Musharaf Ahsan',\n",
       " 887,\n",
       " 9.5,\n",
       " False]"
      ]
     },
     "execution_count": 50,
     "metadata": {},
     "output_type": "execute_result"
    }
   ],
   "source": [
    "list1+list2"
   ]
  },
  {
   "cell_type": "markdown",
   "id": "3ad929e2",
   "metadata": {},
   "source": [
    "## Other Functions of Lists"
   ]
  },
  {
   "cell_type": "code",
   "execution_count": 51,
   "id": "6b1b8712",
   "metadata": {},
   "outputs": [
    {
     "data": {
      "text/plain": [
       "[4, 'Motu Patlu', 8.4, True]"
      ]
     },
     "execution_count": 51,
     "metadata": {},
     "output_type": "execute_result"
    }
   ],
   "source": [
    "list1"
   ]
  },
  {
   "cell_type": "markdown",
   "id": "065f9676",
   "metadata": {},
   "source": [
    "### - Append()\n",
    " \n",
    " *Used to insert or add new elements in the list.*"
   ]
  },
  {
   "cell_type": "code",
   "execution_count": 52,
   "id": "693606c6",
   "metadata": {},
   "outputs": [
    {
     "data": {
      "text/plain": [
       "[4, 'Motu Patlu', 8.4, True, 'CUVAS']"
      ]
     },
     "execution_count": 52,
     "metadata": {},
     "output_type": "execute_result"
    }
   ],
   "source": [
    "list1.append(\"CUVAS\")\n",
    "list1"
   ]
  },
  {
   "cell_type": "markdown",
   "id": "c1c5efe3",
   "metadata": {},
   "source": [
    "### - Clear()\n",
    "*This function delete every item from the list.*"
   ]
  },
  {
   "cell_type": "code",
   "execution_count": 53,
   "id": "8c0d690e",
   "metadata": {},
   "outputs": [
    {
     "data": {
      "text/plain": [
       "[]"
      ]
     },
     "execution_count": 53,
     "metadata": {},
     "output_type": "execute_result"
    }
   ],
   "source": [
    "list1.clear()     \n",
    "list1"
   ]
  },
  {
   "cell_type": "code",
   "execution_count": 54,
   "id": "ed36871b",
   "metadata": {},
   "outputs": [
    {
     "data": {
      "text/plain": [
       "[]"
      ]
     },
     "execution_count": 54,
     "metadata": {},
     "output_type": "execute_result"
    }
   ],
   "source": [
    "list1     # Here we saw that the list is empty."
   ]
  },
  {
   "cell_type": "markdown",
   "id": "53f03a21",
   "metadata": {},
   "source": [
    "### - Copy()"
   ]
  },
  {
   "cell_type": "code",
   "execution_count": 55,
   "id": "ad32a59c",
   "metadata": {},
   "outputs": [
    {
     "data": {
      "text/plain": [
       "[]"
      ]
     },
     "execution_count": 55,
     "metadata": {},
     "output_type": "execute_result"
    }
   ],
   "source": [
    "list1.copy() ##is ki samjh nhi ayeee\n"
   ]
  },
  {
   "cell_type": "markdown",
   "id": "6ade0bfa",
   "metadata": {},
   "source": [
    "### - Count()\n",
    "*Python count() function is an inbuilt function of python which is used to count the number of occurrences of an item in an array/list and the occurrences of a character or substring in the string. Count function is case-sensitive it means that 'a' & 'A' are not treated as the same both are different.*"
   ]
  },
  {
   "cell_type": "code",
   "execution_count": 56,
   "id": "578dc9eb",
   "metadata": {},
   "outputs": [],
   "source": [
    "list3=[1,0,0,\"APE\",\"CUVAS\",2,2,0,1,\"BWP\"]"
   ]
  },
  {
   "cell_type": "code",
   "execution_count": 57,
   "id": "811793ab",
   "metadata": {},
   "outputs": [
    {
     "data": {
      "text/plain": [
       "[1, 0, 0, 'APE', 'CUVAS', 2, 2, 0, 1, 'BWP']"
      ]
     },
     "execution_count": 57,
     "metadata": {},
     "output_type": "execute_result"
    }
   ],
   "source": [
    "list3"
   ]
  },
  {
   "cell_type": "code",
   "execution_count": 58,
   "id": "25a761c9",
   "metadata": {},
   "outputs": [
    {
     "data": {
      "text/plain": [
       "3"
      ]
     },
     "execution_count": 58,
     "metadata": {},
     "output_type": "execute_result"
    }
   ],
   "source": [
    "list3.count(0)"
   ]
  },
  {
   "cell_type": "markdown",
   "id": "1525c61c",
   "metadata": {},
   "source": [
    "### - Extend()"
   ]
  },
  {
   "cell_type": "code",
   "execution_count": 59,
   "id": "686d468c",
   "metadata": {},
   "outputs": [
    {
     "data": {
      "text/plain": [
       "[1, 0, 0, 'APE', 'CUVAS', 2, 2, 0, 1, 'BWP', 'A', 'h', 's', 'a', 'n']"
      ]
     },
     "execution_count": 59,
     "metadata": {},
     "output_type": "execute_result"
    }
   ],
   "source": [
    "list3.extend(\"Ahsan\")\n",
    "list3"
   ]
  },
  {
   "cell_type": "markdown",
   "id": "2b92da6f",
   "metadata": {},
   "source": [
    "### - Indeex()\n",
    "*index() is an inbuilt function in Python, which searches for a given element from the start of the list and returns the lowest index where the element appears.*"
   ]
  },
  {
   "cell_type": "code",
   "execution_count": 60,
   "id": "588dcf32",
   "metadata": {},
   "outputs": [
    {
     "data": {
      "text/plain": [
       "3"
      ]
     },
     "execution_count": 60,
     "metadata": {},
     "output_type": "execute_result"
    }
   ],
   "source": [
    "list3.index('APE')"
   ]
  },
  {
   "cell_type": "markdown",
   "id": "61825089",
   "metadata": {},
   "source": [
    "### - Insert()\n",
    "*The Python List insert() method is an inbuilt function in Python that inserts a given element at a given index in a list.* \n",
    "\n",
    "**Syntax:**\n",
    "\n",
    "*list_name.insert(index, element)*"
   ]
  },
  {
   "cell_type": "code",
   "execution_count": 61,
   "id": "d8e8cf3f",
   "metadata": {},
   "outputs": [
    {
     "data": {
      "text/plain": [
       "[1, 0, 'Ali', 0, 'APE', 'CUVAS', 2, 2, 0, 1, 'BWP', 'A', 'h', 's', 'a', 'n']"
      ]
     },
     "execution_count": 61,
     "metadata": {},
     "output_type": "execute_result"
    }
   ],
   "source": [
    "list3.insert(2,\"Ali\") #Here we isert \"Ali\" at index 2.\n",
    "list3"
   ]
  },
  {
   "cell_type": "markdown",
   "id": "acc5a06b",
   "metadata": {},
   "source": [
    "### - pop()\n",
    "*Python list pop() is an inbuilt function in Python that removes and returns the last value from the List or the given index value.*\n",
    "\n",
    "**Syntax:**\n",
    "\n",
    "*list_name.pop(index)*\n",
    "\n",
    "**Parameter:** \n",
    "\n",
    "**index (optional) –** *The value at index is popped out and removed. If the index is not given, then the last element is popped out and removed.*\n",
    "\n",
    "\n",
    "**Exception:** *When the index is out of range, it returns IndexError.*"
   ]
  },
  {
   "cell_type": "code",
   "execution_count": 62,
   "id": "5e701ba7",
   "metadata": {},
   "outputs": [
    {
     "data": {
      "text/plain": [
       "[1, 0, 'Ali', 0, 'CUVAS', 2, 2, 0, 1, 'BWP', 'A', 'h', 's', 'a', 'n']"
      ]
     },
     "execution_count": 62,
     "metadata": {},
     "output_type": "execute_result"
    }
   ],
   "source": [
    "list3.pop(4)\n",
    "list3"
   ]
  },
  {
   "cell_type": "code",
   "execution_count": 63,
   "id": "5bed277f",
   "metadata": {},
   "outputs": [
    {
     "data": {
      "text/plain": [
       "'n'"
      ]
     },
     "execution_count": 63,
     "metadata": {},
     "output_type": "execute_result"
    }
   ],
   "source": [
    "list3.pop()"
   ]
  },
  {
   "cell_type": "code",
   "execution_count": 64,
   "id": "096106f0",
   "metadata": {},
   "outputs": [
    {
     "data": {
      "text/plain": [
       "[1, 0, 'Ali', 0, 'CUVAS', 2, 2, 0, 1, 'BWP', 'A', 'h', 's', 'a']"
      ]
     },
     "execution_count": 64,
     "metadata": {},
     "output_type": "execute_result"
    }
   ],
   "source": [
    "list3"
   ]
  },
  {
   "cell_type": "markdown",
   "id": "03a8fd3d",
   "metadata": {},
   "source": [
    "### - remove()\n",
    "*remove() is an inbuilt function used to remove specific element rom the list.*"
   ]
  },
  {
   "cell_type": "code",
   "execution_count": 65,
   "id": "1688dcd1",
   "metadata": {},
   "outputs": [
    {
     "data": {
      "text/plain": [
       "[1, 0, 'Ali', 0, 2, 2, 0, 1, 'BWP', 'A', 'h', 's', 'a']"
      ]
     },
     "execution_count": 65,
     "metadata": {},
     "output_type": "execute_result"
    }
   ],
   "source": [
    "list3.remove(\"CUVAS\")\n",
    "list3"
   ]
  },
  {
   "cell_type": "markdown",
   "id": "335cef30",
   "metadata": {},
   "source": [
    "### - reverse()\n",
    "*Used to reverse the list.*"
   ]
  },
  {
   "cell_type": "code",
   "execution_count": 66,
   "id": "2f5f4a4a",
   "metadata": {
    "scrolled": true
   },
   "outputs": [
    {
     "data": {
      "text/plain": [
       "['a', 's', 'h', 'A', 'BWP', 1, 0, 2, 2, 0, 'Ali', 0, 1]"
      ]
     },
     "execution_count": 66,
     "metadata": {},
     "output_type": "execute_result"
    }
   ],
   "source": [
    "list3.reverse()\n",
    "list3"
   ]
  },
  {
   "cell_type": "markdown",
   "id": "68308e97",
   "metadata": {},
   "source": [
    "### - Sort()\n",
    "*Python list sort() function can be used to sort a List in ascending, descending, or user-defined order.*"
   ]
  },
  {
   "cell_type": "code",
   "execution_count": 67,
   "id": "21fd0ebd",
   "metadata": {},
   "outputs": [
    {
     "data": {
      "text/plain": [
       "[9, 8, 0, 7, 6, 8, 5, 4, 3, 2, 1, 0]"
      ]
     },
     "execution_count": 67,
     "metadata": {},
     "output_type": "execute_result"
    }
   ],
   "source": [
    "list4=[9,8,0,7,6,8,5,4,3,2,1,0]\n",
    "list4"
   ]
  },
  {
   "cell_type": "markdown",
   "id": "1131f7c7",
   "metadata": {},
   "source": [
    "**Ascending Order**"
   ]
  },
  {
   "cell_type": "code",
   "execution_count": 68,
   "id": "29a68a2f",
   "metadata": {},
   "outputs": [
    {
     "data": {
      "text/plain": [
       "[0, 0, 1, 2, 3, 4, 5, 6, 7, 8, 8, 9]"
      ]
     },
     "execution_count": 68,
     "metadata": {},
     "output_type": "execute_result"
    }
   ],
   "source": [
    "list4.sort()\n",
    "list4"
   ]
  },
  {
   "cell_type": "markdown",
   "id": "b8bdb904",
   "metadata": {},
   "source": [
    "**Descending Order**"
   ]
  },
  {
   "cell_type": "code",
   "execution_count": 69,
   "id": "d8eeed92",
   "metadata": {},
   "outputs": [
    {
     "data": {
      "text/plain": [
       "[9, 8, 8, 7, 6, 5, 4, 3, 2, 1, 0, 0]"
      ]
     },
     "execution_count": 69,
     "metadata": {},
     "output_type": "execute_result"
    }
   ],
   "source": [
    "list4.sort(reverse=True)\n",
    "list4"
   ]
  },
  {
   "cell_type": "markdown",
   "id": "224bdcee",
   "metadata": {},
   "source": [
    "## 3-Dictionaries\n",
    "- An unorddered collection of elements\n",
    "- Contain two things Key an Value \n",
    "- Enclosed in Curly  Braces { }\n",
    "- Mutable (you can change the values)"
   ]
  },
  {
   "cell_type": "code",
   "execution_count": 70,
   "id": "c04013a3",
   "metadata": {},
   "outputs": [
    {
     "data": {
      "text/plain": [
       "{'samosa': 30, 'Pakora': 100, 'raita': 20, 'salad': 50, 'chiken rolls': 20}"
      ]
     },
     "execution_count": 70,
     "metadata": {},
     "output_type": "execute_result"
    }
   ],
   "source": [
    "# food and thier Prices\n",
    "food1={\"samosa\":30, \"Pakora\":100, \"raita\":20, \"salad\":50, \"chiken rolls\":20}\n",
    "food1"
   ]
  },
  {
   "cell_type": "code",
   "execution_count": 71,
   "id": "d9c207a9",
   "metadata": {},
   "outputs": [
    {
     "data": {
      "text/plain": [
       "dict"
      ]
     },
     "execution_count": 71,
     "metadata": {},
     "output_type": "execute_result"
    }
   ],
   "source": [
    "type(food1)"
   ]
  },
  {
   "attachments": {
    "Capture.PNG": {
     "image/png": "[encoded data removed]"
    }
   },
   "cell_type": "markdown",
   "id": "fe6d143b",
   "metadata": {},
   "source": [
    "![Capture.PNG](attachment:Capture.PNG)"
   ]
  },
  {
   "cell_type": "markdown",
   "id": "884e116a",
   "metadata": {},
   "source": [
    "## Extract Data\n",
    "### dict_keys"
   ]
  },
  {
   "cell_type": "code",
   "execution_count": 72,
   "id": "507f13df",
   "metadata": {},
   "outputs": [
    {
     "data": {
      "text/plain": [
       "dict_keys(['samosa', 'Pakora', 'raita', 'salad', 'chiken rolls'])"
      ]
     },
     "execution_count": 72,
     "metadata": {},
     "output_type": "execute_result"
    }
   ],
   "source": [
    "keys=food1.keys() # also use as food1.keys\n",
    "keys"
   ]
  },
  {
   "cell_type": "markdown",
   "id": "83e62a6c",
   "metadata": {},
   "source": [
    "### dict_values"
   ]
  },
  {
   "cell_type": "code",
   "execution_count": 73,
   "id": "e8032bf3",
   "metadata": {},
   "outputs": [
    {
     "data": {
      "text/plain": [
       "dict_values([30, 100, 20, 50, 20])"
      ]
     },
     "execution_count": 73,
     "metadata": {},
     "output_type": "execute_result"
    }
   ],
   "source": [
    "food1.values()"
   ]
  },
  {
   "cell_type": "markdown",
   "id": "86e34708",
   "metadata": {},
   "source": [
    "### Adding New Elements"
   ]
  },
  {
   "cell_type": "code",
   "execution_count": 74,
   "id": "5c1eef49",
   "metadata": {},
   "outputs": [
    {
     "data": {
      "text/plain": [
       "{'samosa': 30,\n",
       " 'Pakora': 100,\n",
       " 'raita': 20,\n",
       " 'salad': 50,\n",
       " 'chiken rolls': 20,\n",
       " 'tikki': 10}"
      ]
     },
     "execution_count": 74,
     "metadata": {},
     "output_type": "execute_result"
    }
   ],
   "source": [
    "food1[\"tikki\"]=10\n",
    "food1"
   ]
  },
  {
   "cell_type": "markdown",
   "id": "e42e95c0",
   "metadata": {},
   "source": [
    "### Update Values"
   ]
  },
  {
   "cell_type": "code",
   "execution_count": 75,
   "id": "ffb15c9d",
   "metadata": {},
   "outputs": [
    {
     "data": {
      "text/plain": [
       "{'samosa': 30,\n",
       " 'Pakora': 100,\n",
       " 'raita': 20,\n",
       " 'salad': 50,\n",
       " 'chiken rolls': 20,\n",
       " 'tikki': 15}"
      ]
     },
     "execution_count": 75,
     "metadata": {},
     "output_type": "execute_result"
    }
   ],
   "source": [
    "food1[\"tikki\"]=15\n",
    "food1"
   ]
  },
  {
   "cell_type": "code",
   "execution_count": 76,
   "id": "d0ce99de",
   "metadata": {},
   "outputs": [
    {
     "data": {
      "text/plain": [
       "{'Dates': 50, 'Choclate': 200, 'Sawayan': 1000}"
      ]
     },
     "execution_count": 76,
     "metadata": {},
     "output_type": "execute_result"
    }
   ],
   "source": [
    "food2={\"Dates\":50,\"Choclate\":200, \"Sawayan\":1000}\n",
    "food2"
   ]
  },
  {
   "cell_type": "markdown",
   "id": "ea4311c1",
   "metadata": {},
   "source": [
    "### Concatinate"
   ]
  },
  {
   "cell_type": "markdown",
   "id": "7c13c058",
   "metadata": {},
   "source": [
    "*The function ***(food1+food2)*** does not work here.*"
   ]
  },
  {
   "cell_type": "code",
   "execution_count": 77,
   "id": "396877f1",
   "metadata": {},
   "outputs": [
    {
     "data": {
      "text/plain": [
       "{'samosa': 30,\n",
       " 'Pakora': 100,\n",
       " 'raita': 20,\n",
       " 'salad': 50,\n",
       " 'chiken rolls': 20,\n",
       " 'tikki': 15,\n",
       " 'Dates': 50,\n",
       " 'Choclate': 200,\n",
       " 'Sawayan': 1000}"
      ]
     },
     "execution_count": 77,
     "metadata": {},
     "output_type": "execute_result"
    }
   ],
   "source": [
    "food1.update(food2)\n",
    "food1"
   ]
  },
  {
   "cell_type": "markdown",
   "id": "39deb66e",
   "metadata": {},
   "source": [
    "## Other Functions of Dictionaries"
   ]
  },
  {
   "cell_type": "code",
   "execution_count": 78,
   "id": "912b6480",
   "metadata": {},
   "outputs": [
    {
     "data": {
      "text/plain": [
       "{'pant': 1000, 'shirt': 500, 'tie': 200, 'coat': 2000}"
      ]
     },
     "execution_count": 78,
     "metadata": {},
     "output_type": "execute_result"
    }
   ],
   "source": [
    "clothes={\"pant\":1000, \"shirt\":500, \"tie\":200, \"coat\":2000}\n",
    "clothes"
   ]
  },
  {
   "cell_type": "markdown",
   "id": "2a3ddced",
   "metadata": {},
   "source": [
    "### 1- clear()\n",
    "***The clear() method removes all the elements from a dictionary***"
   ]
  },
  {
   "cell_type": "code",
   "execution_count": 79,
   "id": "6e47475c",
   "metadata": {},
   "outputs": [],
   "source": [
    "clothes.clear()"
   ]
  },
  {
   "cell_type": "code",
   "execution_count": 80,
   "id": "6c045733",
   "metadata": {},
   "outputs": [
    {
     "data": {
      "text/plain": [
       "{}"
      ]
     },
     "execution_count": 80,
     "metadata": {},
     "output_type": "execute_result"
    }
   ],
   "source": [
    "clothes"
   ]
  },
  {
   "cell_type": "markdown",
   "id": "f0de4731",
   "metadata": {},
   "source": [
    "### 2- copy()\n",
    "***The dict.copy() method returns a shallow copy of the dictionary.***\n",
    "\n",
    "***The dictionary can also be copied using the = operator, which points to \n",
    "the same object as the original. So if any change is made in the copied \n",
    "dictionary will also reflect in the original dictionary.***"
   ]
  },
  {
   "cell_type": "code",
   "execution_count": 81,
   "id": "fd9db544",
   "metadata": {},
   "outputs": [
    {
     "data": {
      "text/plain": [
       "{'pant': 100, 'shirt': 200, 'tie': 100, 'coat': 5000}"
      ]
     },
     "execution_count": 81,
     "metadata": {},
     "output_type": "execute_result"
    }
   ],
   "source": [
    "clothes1={\"pant\":100, \"shirt\":200, \"tie\":100, \"coat\":5000}\n",
    "clothes1"
   ]
  },
  {
   "cell_type": "code",
   "execution_count": 82,
   "id": "e2760db9",
   "metadata": {},
   "outputs": [
    {
     "data": {
      "text/plain": [
       "{'pant': 100, 'shirt': 200, 'tie': 100, 'coat': 5000}"
      ]
     },
     "execution_count": 82,
     "metadata": {},
     "output_type": "execute_result"
    }
   ],
   "source": [
    "# By using copy() method..\n",
    "clothes2=clothes1.copy()\n",
    "clothes2"
   ]
  },
  {
   "cell_type": "code",
   "execution_count": 83,
   "id": "3785f26e",
   "metadata": {},
   "outputs": [
    {
     "data": {
      "text/plain": [
       "{'pant': 100, 'shirt': 200, 'tie': 100, 'coat': 5000}"
      ]
     },
     "execution_count": 83,
     "metadata": {},
     "output_type": "execute_result"
    }
   ],
   "source": [
    "# By using assignment \"=\" operator.. \n",
    "clothes3=clothes1\n",
    "clothes3"
   ]
  },
  {
   "attachments": {
    "image.png": {
     "image/png": "[encoded data removed]"
    }
   },
   "cell_type": "markdown",
   "id": "ea36c698",
   "metadata": {},
   "source": [
    "### 3- fromkeys()\n",
    "*The fromkeys() method returns a dictionary with the specified keys and the specified value.*\n",
    "### Syntax\n",
    "***dict.fromkeys(keys, value)***\n",
    "### Parameter Values\n",
    "![image.png](attachment:image.png)"
   ]
  },
  {
   "cell_type": "code",
   "execution_count": 84,
   "id": "b1e42477",
   "metadata": {
    "scrolled": false
   },
   "outputs": [
    {
     "data": {
      "text/plain": [
       "{'pant': 90, 'shirt': 90, 'tie': 90, 'coat': 90}"
      ]
     },
     "execution_count": 84,
     "metadata": {},
     "output_type": "execute_result"
    }
   ],
   "source": [
    "# 1st Method\n",
    "clothes1.fromkeys(clothes1,90)"
   ]
  },
  {
   "cell_type": "code",
   "execution_count": 85,
   "id": "5f5ba7ef",
   "metadata": {},
   "outputs": [
    {
     "data": {
      "text/plain": [
       "{'oppo': 100000, 'samsung': 100000, 'iphone': 100000, 'vivo': 100000}"
      ]
     },
     "execution_count": 85,
     "metadata": {},
     "output_type": "execute_result"
    }
   ],
   "source": [
    "# 2nd Method\n",
    "key =(\"oppo\",\"samsung\",\"iphone\",\"vivo\")\n",
    "value =(100000)\n",
    "cell_price = dict.fromkeys(key,value)\n",
    "cell_price"
   ]
  },
  {
   "attachments": {
    "image.png": {
     "image/png": "[encoded data removed]"
    }
   },
   "cell_type": "markdown",
   "id": "22945548",
   "metadata": {},
   "source": [
    "### 4- get()\n",
    "*The get() method returns the value of the item with the specified key.*\n",
    "\n",
    "### Syntax\n",
    "***dictionary.get(keyname, value)***\n",
    "### Parameter Values\n",
    "![image.png](attachment:image.png)"
   ]
  },
  {
   "cell_type": "code",
   "execution_count": 86,
   "id": "4887c761",
   "metadata": {
    "scrolled": true
   },
   "outputs": [
    {
     "data": {
      "text/plain": [
       "100"
      ]
     },
     "execution_count": 86,
     "metadata": {},
     "output_type": "execute_result"
    }
   ],
   "source": [
    "clothes1.get(\"pant\")"
   ]
  },
  {
   "cell_type": "code",
   "execution_count": 87,
   "id": "469c1482",
   "metadata": {},
   "outputs": [
    {
     "data": {
      "text/plain": [
       "30"
      ]
     },
     "execution_count": 87,
     "metadata": {},
     "output_type": "execute_result"
    }
   ],
   "source": [
    "food1.get(\"samosa\")"
   ]
  },
  {
   "cell_type": "markdown",
   "id": "76626855",
   "metadata": {},
   "source": [
    "### 5- items()\n",
    "*A items() method is used with a dictionary to get the list with all dictionary keys with values.*\n",
    "### Syntax\n",
    "***dictionary.items()***"
   ]
  },
  {
   "cell_type": "code",
   "execution_count": 88,
   "id": "f3c4e3da",
   "metadata": {},
   "outputs": [
    {
     "data": {
      "text/plain": [
       "dict_items([('samosa', 30), ('Pakora', 100), ('raita', 20), ('salad', 50), ('chiken rolls', 20), ('tikki', 15), ('Dates', 50), ('Choclate', 200), ('Sawayan', 1000)])"
      ]
     },
     "execution_count": 88,
     "metadata": {},
     "output_type": "execute_result"
    }
   ],
   "source": [
    "food1.items()"
   ]
  },
  {
   "cell_type": "markdown",
   "id": "80e56218",
   "metadata": {},
   "source": [
    "### 6- keys()\n"
   ]
  },
  {
   "cell_type": "code",
   "execution_count": 89,
   "id": "4f4c75e0",
   "metadata": {},
   "outputs": [
    {
     "data": {
      "text/plain": [
       "dict_keys(['samosa', 'Pakora', 'raita', 'salad', 'chiken rolls', 'tikki', 'Dates', 'Choclate', 'Sawayan'])"
      ]
     },
     "execution_count": 89,
     "metadata": {},
     "output_type": "execute_result"
    }
   ],
   "source": [
    "food1.keys()"
   ]
  },
  {
   "attachments": {
    "image.png": {
     "image/png": "[encoded data removed]"
    }
   },
   "cell_type": "markdown",
   "id": "4af065dc",
   "metadata": {},
   "source": [
    "### 7- pop()\n",
    "*The pop() method removes the specified item from the dictionary.*\n",
    "### Syntax\n",
    "***dictionary.pop(keyname, defaultvalue)***\n",
    "### Parameter Values\n",
    "![image.png](attachment:image.png)"
   ]
  },
  {
   "cell_type": "code",
   "execution_count": 90,
   "id": "93a31d2c",
   "metadata": {},
   "outputs": [
    {
     "data": {
      "text/plain": [
       "30"
      ]
     },
     "execution_count": 90,
     "metadata": {},
     "output_type": "execute_result"
    }
   ],
   "source": [
    "food1.pop(\"samosa\")"
   ]
  },
  {
   "cell_type": "code",
   "execution_count": 91,
   "id": "22687462",
   "metadata": {},
   "outputs": [
    {
     "data": {
      "text/plain": [
       "{'Pakora': 100,\n",
       " 'raita': 20,\n",
       " 'salad': 50,\n",
       " 'chiken rolls': 20,\n",
       " 'tikki': 15,\n",
       " 'Dates': 50,\n",
       " 'Choclate': 200,\n",
       " 'Sawayan': 1000}"
      ]
     },
     "execution_count": 91,
     "metadata": {},
     "output_type": "execute_result"
    }
   ],
   "source": [
    "food1      # samosa from the dictionary is removed"
   ]
  },
  {
   "cell_type": "markdown",
   "id": "09af57cf",
   "metadata": {},
   "source": [
    "### 8- popitem()\n",
    "*The popitem() method removes the item that was last inserted into the dictionary. In versions before 3.7, the popitem() method removes a random item.*\n",
    "### Syntax\n",
    "***dictionary.popitem()***"
   ]
  },
  {
   "cell_type": "code",
   "execution_count": 92,
   "id": "bcc0ae44",
   "metadata": {
    "scrolled": true
   },
   "outputs": [
    {
     "data": {
      "text/plain": [
       "('Sawayan', 1000)"
      ]
     },
     "execution_count": 92,
     "metadata": {},
     "output_type": "execute_result"
    }
   ],
   "source": [
    "food1.popitem()"
   ]
  },
  {
   "attachments": {
    "image.png": {
     "image/png": "[encoded data removed]"
    }
   },
   "cell_type": "markdown",
   "id": "02315f6a",
   "metadata": {},
   "source": [
    "### 9-setdefault()\n",
    "*The setdefault() method returns the value of the item with the specified key.*\n",
    "### Syntax\n",
    "***dictionary.setdefault(keyname, value)***\n",
    "![image.png](attachment:image.png)"
   ]
  },
  {
   "cell_type": "code",
   "execution_count": 93,
   "id": "1628f901",
   "metadata": {},
   "outputs": [
    {
     "data": {
      "text/plain": [
       "20"
      ]
     },
     "execution_count": 93,
     "metadata": {},
     "output_type": "execute_result"
    }
   ],
   "source": [
    "food1.setdefault(\"raita\")"
   ]
  },
  {
   "cell_type": "code",
   "execution_count": 94,
   "id": "5efaf0e9",
   "metadata": {},
   "outputs": [
    {
     "data": {
      "text/plain": [
       "50"
      ]
     },
     "execution_count": 94,
     "metadata": {},
     "output_type": "execute_result"
    }
   ],
   "source": [
    "food1.setdefault(\"Dates\",50)"
   ]
  },
  {
   "attachments": {
    "image.png": {
     "image/png": "[encoded data removed]"
    }
   },
   "cell_type": "markdown",
   "id": "87953396",
   "metadata": {},
   "source": [
    "### 10- update()\n",
    "*The update() method inserts the specified items to the dictionary.*\n",
    "\n",
    "*The specified items can be a dictionary, or an iterable object with key value pairs.*\n",
    "\n",
    "### Syntax\n",
    "***dictionary.update(iterable)***\n",
    "### Parameter Values\n",
    "![image.png](attachment:image.png)"
   ]
  },
  {
   "cell_type": "code",
   "execution_count": 95,
   "id": "9ff2a49f",
   "metadata": {},
   "outputs": [],
   "source": [
    "food1.update({\"burger\":150})"
   ]
  },
  {
   "cell_type": "code",
   "execution_count": 96,
   "id": "35238582",
   "metadata": {},
   "outputs": [
    {
     "data": {
      "text/plain": [
       "{'Pakora': 100,\n",
       " 'raita': 20,\n",
       " 'salad': 50,\n",
       " 'chiken rolls': 20,\n",
       " 'tikki': 15,\n",
       " 'Dates': 50,\n",
       " 'Choclate': 200,\n",
       " 'burger': 150}"
      ]
     },
     "execution_count": 96,
     "metadata": {},
     "output_type": "execute_result"
    }
   ],
   "source": [
    "food1"
   ]
  },
  {
   "cell_type": "markdown",
   "id": "59938a3c",
   "metadata": {},
   "source": [
    "## 4-Set\n",
    "- Unordered and unindexed\n",
    "- Curly braces are used { }\n",
    "- No duplicates are allowed"
   ]
  },
  {
   "cell_type": "code",
   "execution_count": 97,
   "id": "0e6fab9d",
   "metadata": {},
   "outputs": [
    {
     "data": {
      "text/plain": [
       "{1, 2.5, 5.6, 'CUVAS', 'Musharaf'}"
      ]
     },
     "execution_count": 97,
     "metadata": {},
     "output_type": "execute_result"
    }
   ],
   "source": [
    "s1={1, 2.5, 5.6, \"Musharaf\", \"CUVAS\", True} # bolian operator add nhi kr sakte wo print nhi ho ga\n",
    "s1"
   ]
  },
  {
   "cell_type": "markdown",
   "id": "fff05814",
   "metadata": {},
   "source": [
    "### 1- add()\n",
    "*The add() method adds an element to the set.*\n",
    "\n",
    "*If the element already exists, the add() method does not add the element.*\n",
    "\n",
    "### Syntax\n",
    "***set.add(elmnt)***"
   ]
  },
  {
   "cell_type": "code",
   "execution_count": 98,
   "id": "291defb0",
   "metadata": {},
   "outputs": [
    {
     "data": {
      "text/plain": [
       "{1, 2.5, 5.6, 'CUVAS', 'Musharaf'}"
      ]
     },
     "execution_count": 98,
     "metadata": {},
     "output_type": "execute_result"
    }
   ],
   "source": [
    "s1.add(\"Musharaf\") # Duplicate items add nhi ho gy.\n",
    "s1"
   ]
  },
  {
   "cell_type": "markdown",
   "id": "7391b0dc",
   "metadata": {},
   "source": [
    "### 2- clear()\n",
    "*The clear() method removes all elements in a set.*\n",
    "\n",
    "### Syntax\n",
    "***set.clear()***"
   ]
  },
  {
   "cell_type": "code",
   "execution_count": 99,
   "id": "53013abc",
   "metadata": {},
   "outputs": [],
   "source": [
    "s1.clear()"
   ]
  },
  {
   "cell_type": "code",
   "execution_count": 100,
   "id": "c82eb6fb",
   "metadata": {},
   "outputs": [
    {
     "data": {
      "text/plain": [
       "set()"
      ]
     },
     "execution_count": 100,
     "metadata": {},
     "output_type": "execute_result"
    }
   ],
   "source": [
    "s1"
   ]
  },
  {
   "cell_type": "code",
   "execution_count": 101,
   "id": "a2a69298",
   "metadata": {},
   "outputs": [],
   "source": [
    "s={88, 8.9, 0.45, \"Akif\", \"boss\"}"
   ]
  },
  {
   "cell_type": "markdown",
   "id": "0c3f3ebc",
   "metadata": {},
   "source": [
    "### 3- copy()\n",
    "*The copy() method copies the set.*\n",
    "\n",
    "### Syntax\n",
    "***set.copy()***"
   ]
  },
  {
   "cell_type": "code",
   "execution_count": 102,
   "id": "065f02f5",
   "metadata": {},
   "outputs": [],
   "source": [
    "copy_set=s.copy()"
   ]
  },
  {
   "cell_type": "code",
   "execution_count": 103,
   "id": "c76b0fc5",
   "metadata": {},
   "outputs": [
    {
     "data": {
      "text/plain": [
       "{0.45, 8.9, 88, 'Akif', 'boss'}"
      ]
     },
     "execution_count": 103,
     "metadata": {},
     "output_type": "execute_result"
    }
   ],
   "source": [
    "copy_set"
   ]
  },
  {
   "cell_type": "code",
   "execution_count": 104,
   "id": "714e40dd",
   "metadata": {},
   "outputs": [],
   "source": [
    "s2={0.45, 8.9, \"Ahsan\", \"boss\", \"asfand\"}"
   ]
  },
  {
   "cell_type": "markdown",
   "id": "f3242637",
   "metadata": {},
   "source": [
    "### 4- difference()\n",
    "*The difference() method returns a set that contains the difference between two sets.*\n",
    "\n",
    "*Meaning: The returned set contains items that exist only in the first set, and not in both sets.*\n",
    "\n",
    "### Syntax\n",
    "***set.difference(set)***"
   ]
  },
  {
   "cell_type": "code",
   "execution_count": 105,
   "id": "9b4b7328",
   "metadata": {},
   "outputs": [],
   "source": [
    "x=s.difference(s2)"
   ]
  },
  {
   "cell_type": "code",
   "execution_count": 106,
   "id": "80dc7bb7",
   "metadata": {},
   "outputs": [
    {
     "data": {
      "text/plain": [
       "{88, 'Akif'}"
      ]
     },
     "execution_count": 106,
     "metadata": {},
     "output_type": "execute_result"
    }
   ],
   "source": [
    "x"
   ]
  },
  {
   "cell_type": "code",
   "execution_count": 107,
   "id": "36eb02ca",
   "metadata": {},
   "outputs": [
    {
     "data": {
      "text/plain": [
       "{'Ahsan', 'asfand'}"
      ]
     },
     "execution_count": 107,
     "metadata": {},
     "output_type": "execute_result"
    }
   ],
   "source": [
    "y=s2.difference(s)\n",
    "y"
   ]
  },
  {
   "cell_type": "markdown",
   "id": "8efa0737",
   "metadata": {},
   "source": [
    "### 5- difference_update()\n",
    "*The difference_update() method removes the items that exist in both sets.*\n",
    "\n",
    "*The difference_update() method is different from the difference() method, because the difference() method returns a new set, without the unwanted items, and the difference_update() method removes the unwanted items from the original set.*\n",
    "\n",
    "### Syntax\n",
    "***set.difference_update(set)***"
   ]
  },
  {
   "cell_type": "code",
   "execution_count": 108,
   "id": "24863168",
   "metadata": {},
   "outputs": [],
   "source": [
    "a=s.difference_update(s2)"
   ]
  },
  {
   "cell_type": "code",
   "execution_count": 109,
   "id": "b0f6bb40",
   "metadata": {},
   "outputs": [
    {
     "data": {
      "text/plain": [
       "{88, 'Akif'}"
      ]
     },
     "execution_count": 109,
     "metadata": {},
     "output_type": "execute_result"
    }
   ],
   "source": [
    "s"
   ]
  },
  {
   "cell_type": "code",
   "execution_count": 110,
   "id": "7e94ff18",
   "metadata": {},
   "outputs": [],
   "source": [
    "b=s2.difference_update(s) #from s={88, \"Akif\"} & s2={0.45, 8.9, 'Ahsan', 'asfand', 'boss'} common is nothing"
   ]
  },
  {
   "cell_type": "code",
   "execution_count": 111,
   "id": "c906e839",
   "metadata": {},
   "outputs": [
    {
     "data": {
      "text/plain": [
       "{0.45, 8.9, 'Ahsan', 'asfand', 'boss'}"
      ]
     },
     "execution_count": 111,
     "metadata": {},
     "output_type": "execute_result"
    }
   ],
   "source": [
    "s2"
   ]
  },
  {
   "cell_type": "markdown",
   "id": "c8a697a2",
   "metadata": {},
   "source": [
    "### 6- discard()\n",
    "*The discard() method removes the specified item from the set.*\n",
    "\n",
    "*This method is different from the remove() method, because the remove() method will raise an error if the specified item does not exist, and the discard() method will not.*\n",
    "\n",
    "### Syntax\n",
    "***set.discard(value)***\n"
   ]
  },
  {
   "cell_type": "code",
   "execution_count": 112,
   "id": "134a1380",
   "metadata": {},
   "outputs": [],
   "source": [
    "s3={\"python\", \"c++\", \"c\", 99, 99.09}"
   ]
  },
  {
   "cell_type": "code",
   "execution_count": 113,
   "id": "89b1f3cd",
   "metadata": {},
   "outputs": [
    {
     "data": {
      "text/plain": [
       "{99, 99.09, 'c', 'c++', 'python'}"
      ]
     },
     "execution_count": 113,
     "metadata": {},
     "output_type": "execute_result"
    }
   ],
   "source": [
    "s3"
   ]
  },
  {
   "cell_type": "code",
   "execution_count": 114,
   "id": "00fc368b",
   "metadata": {},
   "outputs": [],
   "source": [
    "s3.discard(\"c++\")"
   ]
  },
  {
   "cell_type": "code",
   "execution_count": 115,
   "id": "bcd6f6f5",
   "metadata": {},
   "outputs": [
    {
     "data": {
      "text/plain": [
       "{99, 99.09, 'c', 'python'}"
      ]
     },
     "execution_count": 115,
     "metadata": {},
     "output_type": "execute_result"
    }
   ],
   "source": [
    "s3"
   ]
  },
  {
   "cell_type": "markdown",
   "id": "d2f11259",
   "metadata": {},
   "source": [
    "### 7- intersection()\n",
    "*The intersection() method returns a set that contains the similarity between two or more sets.*\n",
    "\n",
    "\n",
    "*Meaning: The returned set contains only items that exist in both sets, or in all sets if the comparison is done with more than two sets.*\n",
    "\n",
    "### Syntax\n",
    "***set.intersection(set1, set2 ... etc)***"
   ]
  },
  {
   "cell_type": "code",
   "execution_count": 116,
   "id": "ae66da35",
   "metadata": {},
   "outputs": [],
   "source": [
    "s4={99.09, 99, \"dell\", \"hp\", \"Apple\", \"python\"}"
   ]
  },
  {
   "cell_type": "code",
   "execution_count": 117,
   "id": "6e18691f",
   "metadata": {},
   "outputs": [],
   "source": [
    "s5={\"dell\", \"python\", 99 }"
   ]
  },
  {
   "cell_type": "code",
   "execution_count": 118,
   "id": "1df00525",
   "metadata": {
    "scrolled": true
   },
   "outputs": [
    {
     "data": {
      "text/plain": [
       "{99, 'python'}"
      ]
     },
     "execution_count": 118,
     "metadata": {},
     "output_type": "execute_result"
    }
   ],
   "source": [
    "s3.intersection(s4,s5)"
   ]
  },
  {
   "cell_type": "markdown",
   "id": "2f1508b0",
   "metadata": {},
   "source": [
    "### 8- intersection_update()\n",
    "*The intersection_update() method removes the items that is not present in both sets (or in all sets if the comparison is done between more than two sets).*\n",
    "\n",
    "*The intersection_update() method is different from the intersection() method, because the intersection() method returns a new set, without the unwanted items, and the intersection_update() method removes the unwanted items from the original set.*\n",
    "\n",
    "### Syntax\n",
    "***set.intersection_update(set1, set2 ... etc)***"
   ]
  },
  {
   "cell_type": "code",
   "execution_count": 119,
   "id": "ac296e92",
   "metadata": {},
   "outputs": [],
   "source": [
    "s4.intersection_update(s5)"
   ]
  },
  {
   "cell_type": "code",
   "execution_count": 120,
   "id": "b0652b3b",
   "metadata": {},
   "outputs": [
    {
     "data": {
      "text/plain": [
       "{99, 'dell', 'python'}"
      ]
     },
     "execution_count": 120,
     "metadata": {},
     "output_type": "execute_result"
    }
   ],
   "source": [
    "s4"
   ]
  },
  {
   "cell_type": "markdown",
   "id": "5516db41",
   "metadata": {},
   "source": [
    "### 9- isdisjoint()\n",
    "*The isdisjoint() method returns True if none of the items are present in both sets, otherwise it returns False.*\n",
    "\n",
    "### Syntax\n",
    "***set.isdisjoint(set)***"
   ]
  },
  {
   "cell_type": "code",
   "execution_count": 121,
   "id": "bf129eb2",
   "metadata": {},
   "outputs": [
    {
     "data": {
      "text/plain": [
       "False"
      ]
     },
     "execution_count": 121,
     "metadata": {},
     "output_type": "execute_result"
    }
   ],
   "source": [
    "s4.isdisjoint(s5)"
   ]
  },
  {
   "cell_type": "markdown",
   "id": "9eebd088",
   "metadata": {},
   "source": [
    "### 10- issubset()\n",
    "*The issubset() method returns True if all items in the set exists in the specified set, otherwise it retuns False.*\n",
    "\n",
    "### Syntax\n",
    "***set.issubset(set)***"
   ]
  },
  {
   "cell_type": "code",
   "execution_count": 122,
   "id": "d9a0a9ff",
   "metadata": {},
   "outputs": [],
   "source": [
    "s6={\"a\",\"b\",\"d\",9,8,7,6,3}"
   ]
  },
  {
   "cell_type": "code",
   "execution_count": 123,
   "id": "04ecffe6",
   "metadata": {},
   "outputs": [],
   "source": [
    "s7={\"a\",\"b\",\"c\",\"d\",\"e\",\"f\",\"g\",1,2,3,4,5,6,7,8,9,10,11,12}"
   ]
  },
  {
   "cell_type": "code",
   "execution_count": 124,
   "id": "544d5648",
   "metadata": {},
   "outputs": [
    {
     "data": {
      "text/plain": [
       "True"
      ]
     },
     "execution_count": 124,
     "metadata": {},
     "output_type": "execute_result"
    }
   ],
   "source": [
    "s6.issubset(s7)"
   ]
  },
  {
   "cell_type": "code",
   "execution_count": 125,
   "id": "f12592cb",
   "metadata": {},
   "outputs": [
    {
     "data": {
      "text/plain": [
       "False"
      ]
     },
     "execution_count": 125,
     "metadata": {},
     "output_type": "execute_result"
    }
   ],
   "source": [
    "s4.issubset(s6)"
   ]
  },
  {
   "cell_type": "markdown",
   "id": "09c1d484",
   "metadata": {},
   "source": [
    "### 11- issuperset()\n",
    "*The issuperset() method returns True if all items in the specified set exists in the original set, otherwise it retuns False.*\n",
    "\n",
    "### Syntax\n",
    "***set.issuperset(set)***"
   ]
  },
  {
   "cell_type": "code",
   "execution_count": 126,
   "id": "45b24ecc",
   "metadata": {},
   "outputs": [
    {
     "data": {
      "text/plain": [
       "False"
      ]
     },
     "execution_count": 126,
     "metadata": {},
     "output_type": "execute_result"
    }
   ],
   "source": [
    "s6.issuperset(s7)"
   ]
  },
  {
   "cell_type": "code",
   "execution_count": 127,
   "id": "f5e3886f",
   "metadata": {},
   "outputs": [
    {
     "data": {
      "text/plain": [
       "True"
      ]
     },
     "execution_count": 127,
     "metadata": {},
     "output_type": "execute_result"
    }
   ],
   "source": [
    "s7.issuperset(s6)"
   ]
  },
  {
   "cell_type": "markdown",
   "id": "6fdcfe4d",
   "metadata": {},
   "source": [
    "### 12- pop()\n",
    "*The pop() method removes a random item from the set.*\n",
    "\n",
    "*This method returns the removed item.*\n",
    "\n",
    "### Syntax\n",
    "***set.pop()***"
   ]
  },
  {
   "cell_type": "code",
   "execution_count": 128,
   "id": "6e986c35",
   "metadata": {},
   "outputs": [
    {
     "data": {
      "text/plain": [
       "3"
      ]
     },
     "execution_count": 128,
     "metadata": {},
     "output_type": "execute_result"
    }
   ],
   "source": [
    "s6.pop()"
   ]
  },
  {
   "cell_type": "markdown",
   "id": "c931dfa7",
   "metadata": {},
   "source": [
    "### 13- remove()\n",
    "*The remove() method removes the specified element from the set.*\n",
    "\n",
    "*This method is different from the discard() method, because the remove() method will raise an error if the specified item does not exist, and the discard() method will not.*\n",
    "\n",
    "### Syntax\n",
    "***set.remove(item)***"
   ]
  },
  {
   "cell_type": "code",
   "execution_count": 129,
   "id": "fd534f3e",
   "metadata": {},
   "outputs": [],
   "source": [
    "s6.remove(9)"
   ]
  },
  {
   "cell_type": "code",
   "execution_count": 130,
   "id": "9ad52dc8",
   "metadata": {},
   "outputs": [
    {
     "data": {
      "text/plain": [
       "{6, 7, 8, 'a', 'b', 'd'}"
      ]
     },
     "execution_count": 130,
     "metadata": {},
     "output_type": "execute_result"
    }
   ],
   "source": [
    "s6"
   ]
  },
  {
   "cell_type": "markdown",
   "id": "c839ac14",
   "metadata": {},
   "source": [
    "### 14- symmetric_difference()\n",
    "*The symmetric_difference() method returns a set that contains all items from both set, but not the items that are present in both sets.*\n",
    "\n",
    "*Meaning: The returned set contains a mix of items that are not present in both sets.*\n",
    "\n",
    "### Syntax\n",
    "***set.symmetric_difference(set)***"
   ]
  },
  {
   "cell_type": "code",
   "execution_count": 131,
   "id": "f48f9455",
   "metadata": {},
   "outputs": [
    {
     "data": {
      "text/plain": [
       "{1, 10, 11, 12, 2, 3, 4, 5, 9, 'c', 'e', 'f', 'g'}"
      ]
     },
     "execution_count": 131,
     "metadata": {},
     "output_type": "execute_result"
    }
   ],
   "source": [
    "s6.symmetric_difference(s7)"
   ]
  },
  {
   "cell_type": "markdown",
   "id": "6ca31832",
   "metadata": {},
   "source": [
    "### 15- symmetric_difference_update()\n",
    "*The symmetric_difference_update() method updates the original set by removing items that are present in both sets, and inserting the other items.*\n",
    "\n",
    "### Syntax\n",
    "***set.symmetric_difference_update(set)***"
   ]
  },
  {
   "cell_type": "code",
   "execution_count": 134,
   "id": "1916f208",
   "metadata": {},
   "outputs": [],
   "source": [
    "s8=s6.symmetric_difference_update(s7)"
   ]
  },
  {
   "cell_type": "code",
   "execution_count": 135,
   "id": "849f1c3d",
   "metadata": {},
   "outputs": [
    {
     "data": {
      "text/plain": [
       "{6, 7, 8, 'a', 'b', 'd'}"
      ]
     },
     "execution_count": 135,
     "metadata": {},
     "output_type": "execute_result"
    }
   ],
   "source": [
    "s6"
   ]
  },
  {
   "cell_type": "markdown",
   "id": "2e699063",
   "metadata": {},
   "source": [
    "### 16- union()\n",
    "*The union() method returns a set that contains all items from the original set, and all items from the specified set(s).*\n",
    "\n",
    "*You can specify as many sets you want, separated by commas.*\n",
    "\n",
    "*It does not have to be a set, it can be any iterable object.*\n",
    "\n",
    "*If an item is present in more than one set, the result will contain only one appearance of this item.*\n",
    "\n",
    "### Syntax\n",
    "***set.union(set1, set2...)***"
   ]
  },
  {
   "cell_type": "code",
   "execution_count": 136,
   "id": "0a20499b",
   "metadata": {},
   "outputs": [],
   "source": [
    "s8={1,2,3,4,5,6,7,7,8,9,10}"
   ]
  },
  {
   "cell_type": "code",
   "execution_count": 137,
   "id": "a0a54c3c",
   "metadata": {},
   "outputs": [],
   "source": [
    "s9={\"a\",\"b\",\"c\",\"d\",1,2,4,4,5}"
   ]
  },
  {
   "cell_type": "code",
   "execution_count": 138,
   "id": "a5fe3e0f",
   "metadata": {},
   "outputs": [
    {
     "data": {
      "text/plain": [
       "{1, 10, 2, 3, 4, 5, 6, 7, 8, 9, 'a', 'b', 'c', 'd'}"
      ]
     },
     "execution_count": 138,
     "metadata": {},
     "output_type": "execute_result"
    }
   ],
   "source": [
    "s8.union(s9)"
   ]
  },
  {
   "cell_type": "markdown",
   "id": "1a518eaf",
   "metadata": {},
   "source": [
    "### 17- update()\n",
    "*The update() method updates the current set, by adding items from another set (or any other iterable).*\n",
    "\n",
    "*If an item is present in both sets, only one appearance of this item will be present in the updated set.*\n",
    "\n",
    "### Syntax\n",
    "***set.update(set)***"
   ]
  },
  {
   "cell_type": "code",
   "execution_count": 141,
   "id": "9619e0af",
   "metadata": {},
   "outputs": [],
   "source": [
    "s8.update(s9)"
   ]
  },
  {
   "cell_type": "code",
   "execution_count": 142,
   "id": "4dc8b755",
   "metadata": {},
   "outputs": [
    {
     "data": {
      "text/plain": [
       "{1, 10, 2, 3, 4, 5, 6, 7, 8, 9, 'a', 'b', 'c', 'd'}"
      ]
     },
     "execution_count": 142,
     "metadata": {},
     "output_type": "execute_result"
    }
   ],
   "source": []
  }
 ],
 "metadata": {
  "kernelspec": {
   "display_name": "Python 3 (ipykernel)",
   "language": "python",
   "name": "python3"
  },
  "language_info": {
   "codemirror_mode": {
    "name": "ipython",
    "version": 3
   },
   "file_extension": ".py",
   "mimetype": "text/x-python",
   "name": "python",
   "nbconvert_exporter": "python",
   "pygments_lexer": "ipython3",
   "version": "3.9.7"
  }
 },
 "nbformat": 4,
 "nbformat_minor": 5
}
